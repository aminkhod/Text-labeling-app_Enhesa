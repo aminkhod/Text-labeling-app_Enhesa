{
 "cells": [
  {
   "cell_type": "code",
   "execution_count": 22,
   "id": "32024637",
   "metadata": {},
   "outputs": [],
   "source": [
    "import pandas as pd\n",
    "from sklearn.linear_model import LogisticRegression\n",
    "from sklearn.ensemble import RandomForestClassifier, GradientBoostingClassifier, VotingClassifier\n",
    "from sklearn.svm import LinearSVC\n",
    "import os\n",
    "import joblib\n",
    "import gradio as gr\n",
    "from sklearn.metrics import classification_report\n",
    "import plotly.express as px\n",
    "from sklearn.model_selection import train_test_split\n",
    "from sklearn.preprocessing import LabelEncoder\n",
    "import re\n",
    "from sklearn.feature_extraction.text import TfidfVectorizer\n",
    "from fastapi import FastAPI\n",
    "from pydantic import BaseModel\n"
   ]
  },
  {
   "cell_type": "markdown",
   "id": "263b6e4e",
   "metadata": {},
   "source": [
    "## Investigate the Dataset"
   ]
  },
  {
   "cell_type": "markdown",
   "id": "fb9173e7",
   "metadata": {},
   "source": []
  },
  {
   "cell_type": "code",
   "execution_count": 2,
   "id": "89213e0c",
   "metadata": {},
   "outputs": [
    {
     "name": "stdout",
     "output_type": "stream",
     "text": [
      "First 5 rows:\n",
      "   Unnamed: 0                    Title  \\\n",
      "0           0  I tre volti della paura   \n",
      "1           1        Mitt liv som hund   \n",
      "2           2                The Brood   \n",
      "3           3              The Haunted   \n",
      "4           4        The Frozen Ground   \n",
      "\n",
      "                                            Synopsis         Tag  \n",
      "0  Note: this synopsis is for the orginal Italian...        cult  \n",
      "1  The action takes place in the years 1958-1959 ...        cult  \n",
      "2  At the Somafree Institute, Dr. Hal Raglan humi...        cult  \n",
      "3  This creepy and scary story centers around The...  paranormal  \n",
      "4  The film opens in an Anchorage motel room in 1...    dramatic  \n",
      "\n",
      "DataFrame Info:\n",
      "<class 'pandas.core.frame.DataFrame'>\n",
      "RangeIndex: 1566 entries, 0 to 1565\n",
      "Data columns (total 4 columns):\n",
      " #   Column      Non-Null Count  Dtype \n",
      "---  ------      --------------  ----- \n",
      " 0   Unnamed: 0  1566 non-null   int64 \n",
      " 1   Title       1566 non-null   object\n",
      " 2   Synopsis    1566 non-null   object\n",
      " 3   Tag         1566 non-null   object\n",
      "dtypes: int64(1), object(3)\n",
      "memory usage: 49.1+ KB\n",
      "None\n",
      "\n",
      "Label Distribution:\n",
      "Tag\n",
      "cult          1033\n",
      "paranormal     366\n",
      "dramatic       167\n",
      "Name: count, dtype: int64\n"
     ]
    }
   ],
   "source": [
    "\n",
    "# Load dataset\n",
    "df = pd.read_csv(\"../data/task.csv\")\n",
    "\n",
    "# Display basic info\n",
    "print(\"First 5 rows:\")\n",
    "print(df.head())\n",
    "\n",
    "print(\"\\nDataFrame Info:\")\n",
    "print(df.info())\n",
    "\n",
    "print(\"\\nLabel Distribution:\")\n",
    "print(df['Tag'].value_counts())\n",
    "\n"
   ]
  },
  {
   "cell_type": "markdown",
   "id": "253510be",
   "metadata": {},
   "source": [
    "## Preprocess the Data"
   ]
  },
  {
   "cell_type": "code",
   "execution_count": 25,
   "id": "85b77b38",
   "metadata": {},
   "outputs": [
    {
     "data": {
      "text/plain": [
       "['../model/le.pkl']"
      ]
     },
     "execution_count": 25,
     "metadata": {},
     "output_type": "execute_result"
    }
   ],
   "source": [
    "\n",
    "\n",
    "# Clean text\n",
    "def clean_text(text):\n",
    "    text = text.lower()\n",
    "    text = re.sub(r\"[^\\w\\s]\", \"\", text)  # Remove punctuation and special characters\n",
    "    return text\n",
    "\n",
    "# Apply cleaning to the 'Synopsis' column\n",
    "df['clean_synopsis'] = df['Synopsis'].apply(clean_text)\n",
    "\n",
    "# Encode the 'Tag' column into numerical labels\n",
    "le = LabelEncoder()\n",
    "\n",
    "df['tag_encoded'] = le.fit_transform(df['Tag'])\n",
    "\n",
    "if not os.path.exists('../model'):\n",
    "    os.makedirs('../model')\n",
    "joblib.dump(le, '../model/le.pkl')\n",
    "\n"
   ]
  },
  {
   "cell_type": "code",
   "execution_count": 26,
   "id": "47909fa8",
   "metadata": {},
   "outputs": [
    {
     "data": {
      "text/html": [
       "<div>\n",
       "<style scoped>\n",
       "    .dataframe tbody tr th:only-of-type {\n",
       "        vertical-align: middle;\n",
       "    }\n",
       "\n",
       "    .dataframe tbody tr th {\n",
       "        vertical-align: top;\n",
       "    }\n",
       "\n",
       "    .dataframe thead th {\n",
       "        text-align: right;\n",
       "    }\n",
       "</style>\n",
       "<table border=\"1\" class=\"dataframe\">\n",
       "  <thead>\n",
       "    <tr style=\"text-align: right;\">\n",
       "      <th></th>\n",
       "      <th>Unnamed: 0</th>\n",
       "      <th>Title</th>\n",
       "      <th>Synopsis</th>\n",
       "      <th>Tag</th>\n",
       "      <th>clean_synopsis</th>\n",
       "      <th>tag_encoded</th>\n",
       "    </tr>\n",
       "  </thead>\n",
       "  <tbody>\n",
       "    <tr>\n",
       "      <th>0</th>\n",
       "      <td>0</td>\n",
       "      <td>I tre volti della paura</td>\n",
       "      <td>Note: this synopsis is for the orginal Italian...</td>\n",
       "      <td>cult</td>\n",
       "      <td>note this synopsis is for the orginal italian ...</td>\n",
       "      <td>0</td>\n",
       "    </tr>\n",
       "    <tr>\n",
       "      <th>1</th>\n",
       "      <td>1</td>\n",
       "      <td>Mitt liv som hund</td>\n",
       "      <td>The action takes place in the years 1958-1959 ...</td>\n",
       "      <td>cult</td>\n",
       "      <td>the action takes place in the years 19581959 i...</td>\n",
       "      <td>0</td>\n",
       "    </tr>\n",
       "    <tr>\n",
       "      <th>2</th>\n",
       "      <td>2</td>\n",
       "      <td>The Brood</td>\n",
       "      <td>At the Somafree Institute, Dr. Hal Raglan humi...</td>\n",
       "      <td>cult</td>\n",
       "      <td>at the somafree institute dr hal raglan humili...</td>\n",
       "      <td>0</td>\n",
       "    </tr>\n",
       "    <tr>\n",
       "      <th>3</th>\n",
       "      <td>3</td>\n",
       "      <td>The Haunted</td>\n",
       "      <td>This creepy and scary story centers around The...</td>\n",
       "      <td>paranormal</td>\n",
       "      <td>this creepy and scary story centers around the...</td>\n",
       "      <td>2</td>\n",
       "    </tr>\n",
       "    <tr>\n",
       "      <th>4</th>\n",
       "      <td>4</td>\n",
       "      <td>The Frozen Ground</td>\n",
       "      <td>The film opens in an Anchorage motel room in 1...</td>\n",
       "      <td>dramatic</td>\n",
       "      <td>the film opens in an anchorage motel room in 1...</td>\n",
       "      <td>1</td>\n",
       "    </tr>\n",
       "  </tbody>\n",
       "</table>\n",
       "</div>"
      ],
      "text/plain": [
       "   Unnamed: 0                    Title  \\\n",
       "0           0  I tre volti della paura   \n",
       "1           1        Mitt liv som hund   \n",
       "2           2                The Brood   \n",
       "3           3              The Haunted   \n",
       "4           4        The Frozen Ground   \n",
       "\n",
       "                                            Synopsis         Tag  \\\n",
       "0  Note: this synopsis is for the orginal Italian...        cult   \n",
       "1  The action takes place in the years 1958-1959 ...        cult   \n",
       "2  At the Somafree Institute, Dr. Hal Raglan humi...        cult   \n",
       "3  This creepy and scary story centers around The...  paranormal   \n",
       "4  The film opens in an Anchorage motel room in 1...    dramatic   \n",
       "\n",
       "                                      clean_synopsis  tag_encoded  \n",
       "0  note this synopsis is for the orginal italian ...            0  \n",
       "1  the action takes place in the years 19581959 i...            0  \n",
       "2  at the somafree institute dr hal raglan humili...            0  \n",
       "3  this creepy and scary story centers around the...            2  \n",
       "4  the film opens in an anchorage motel room in 1...            1  "
      ]
     },
     "execution_count": 26,
     "metadata": {},
     "output_type": "execute_result"
    }
   ],
   "source": [
    "df.head()"
   ]
  },
  {
   "cell_type": "markdown",
   "id": "b2746687",
   "metadata": {},
   "source": [
    "## Train-Test Split"
   ]
  },
  {
   "cell_type": "code",
   "execution_count": 27,
   "id": "3400939c",
   "metadata": {},
   "outputs": [],
   "source": [
    "\n",
    "\n",
    "X = df['clean_synopsis']\n",
    "y = df['tag_encoded']\n",
    "\n",
    "X_train, X_test, y_train, y_test = train_test_split(X, y, test_size=0.2, random_state=42, stratify=y)\n"
   ]
  },
  {
   "cell_type": "markdown",
   "id": "3e9c1561",
   "metadata": {},
   "source": [
    "## Vectorize Text (TF-IDF)"
   ]
  },
  {
   "cell_type": "code",
   "execution_count": 28,
   "id": "a1f7ac33",
   "metadata": {},
   "outputs": [
    {
     "name": "stdout",
     "output_type": "stream",
     "text": [
      "Maximum length (in words) of the texts: 8473\n"
     ]
    }
   ],
   "source": [
    "max_length = X.apply(lambda x: len(x.split())).max()\n",
    "print(\"Maximum length (in words) of the texts:\", max_length)"
   ]
  },
  {
   "cell_type": "code",
   "execution_count": 29,
   "id": "f2c09b11",
   "metadata": {},
   "outputs": [
    {
     "data": {
      "application/vnd.plotly.v1+json": {
       "config": {
        "plotlyServerURL": "https://plot.ly"
       },
       "data": [
        {
         "bingroup": "x",
         "hovertemplate": "variable=clean_synopsis<br>Text Length (words)=%{x}<br>count=%{y}<extra></extra>",
         "legendgroup": "clean_synopsis",
         "marker": {
          "color": "#636efa",
          "pattern": {
           "shape": ""
          }
         },
         "name": "clean_synopsis",
         "nbinsx": 50,
         "orientation": "v",
         "showlegend": true,
         "type": "histogram",
         "x": {
          "bdata": "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",
          "dtype": "i2"
         },
         "xaxis": "x",
         "yaxis": "y"
        }
       ],
       "layout": {
        "barmode": "relative",
        "legend": {
         "title": {
          "text": "variable"
         },
         "tracegroupgap": 0
        },
        "template": {
         "data": {
          "bar": [
           {
            "error_x": {
             "color": "#2a3f5f"
            },
            "error_y": {
             "color": "#2a3f5f"
            },
            "marker": {
             "line": {
              "color": "#E5ECF6",
              "width": 0.5
             },
             "pattern": {
              "fillmode": "overlay",
              "size": 10,
              "solidity": 0.2
             }
            },
            "type": "bar"
           }
          ],
          "barpolar": [
           {
            "marker": {
             "line": {
              "color": "#E5ECF6",
              "width": 0.5
             },
             "pattern": {
              "fillmode": "overlay",
              "size": 10,
              "solidity": 0.2
             }
            },
            "type": "barpolar"
           }
          ],
          "carpet": [
           {
            "aaxis": {
             "endlinecolor": "#2a3f5f",
             "gridcolor": "white",
             "linecolor": "white",
             "minorgridcolor": "white",
             "startlinecolor": "#2a3f5f"
            },
            "baxis": {
             "endlinecolor": "#2a3f5f",
             "gridcolor": "white",
             "linecolor": "white",
             "minorgridcolor": "white",
             "startlinecolor": "#2a3f5f"
            },
            "type": "carpet"
           }
          ],
          "choropleth": [
           {
            "colorbar": {
             "outlinewidth": 0,
             "ticks": ""
            },
            "type": "choropleth"
           }
          ],
          "contour": [
           {
            "colorbar": {
             "outlinewidth": 0,
             "ticks": ""
            },
            "colorscale": [
             [
              0,
              "#0d0887"
             ],
             [
              0.1111111111111111,
              "#46039f"
             ],
             [
              0.2222222222222222,
              "#7201a8"
             ],
             [
              0.3333333333333333,
              "#9c179e"
             ],
             [
              0.4444444444444444,
              "#bd3786"
             ],
             [
              0.5555555555555556,
              "#d8576b"
             ],
             [
              0.6666666666666666,
              "#ed7953"
             ],
             [
              0.7777777777777778,
              "#fb9f3a"
             ],
             [
              0.8888888888888888,
              "#fdca26"
             ],
             [
              1,
              "#f0f921"
             ]
            ],
            "type": "contour"
           }
          ],
          "contourcarpet": [
           {
            "colorbar": {
             "outlinewidth": 0,
             "ticks": ""
            },
            "type": "contourcarpet"
           }
          ],
          "heatmap": [
           {
            "colorbar": {
             "outlinewidth": 0,
             "ticks": ""
            },
            "colorscale": [
             [
              0,
              "#0d0887"
             ],
             [
              0.1111111111111111,
              "#46039f"
             ],
             [
              0.2222222222222222,
              "#7201a8"
             ],
             [
              0.3333333333333333,
              "#9c179e"
             ],
             [
              0.4444444444444444,
              "#bd3786"
             ],
             [
              0.5555555555555556,
              "#d8576b"
             ],
             [
              0.6666666666666666,
              "#ed7953"
             ],
             [
              0.7777777777777778,
              "#fb9f3a"
             ],
             [
              0.8888888888888888,
              "#fdca26"
             ],
             [
              1,
              "#f0f921"
             ]
            ],
            "type": "heatmap"
           }
          ],
          "histogram": [
           {
            "marker": {
             "pattern": {
              "fillmode": "overlay",
              "size": 10,
              "solidity": 0.2
             }
            },
            "type": "histogram"
           }
          ],
          "histogram2d": [
           {
            "colorbar": {
             "outlinewidth": 0,
             "ticks": ""
            },
            "colorscale": [
             [
              0,
              "#0d0887"
             ],
             [
              0.1111111111111111,
              "#46039f"
             ],
             [
              0.2222222222222222,
              "#7201a8"
             ],
             [
              0.3333333333333333,
              "#9c179e"
             ],
             [
              0.4444444444444444,
              "#bd3786"
             ],
             [
              0.5555555555555556,
              "#d8576b"
             ],
             [
              0.6666666666666666,
              "#ed7953"
             ],
             [
              0.7777777777777778,
              "#fb9f3a"
             ],
             [
              0.8888888888888888,
              "#fdca26"
             ],
             [
              1,
              "#f0f921"
             ]
            ],
            "type": "histogram2d"
           }
          ],
          "histogram2dcontour": [
           {
            "colorbar": {
             "outlinewidth": 0,
             "ticks": ""
            },
            "colorscale": [
             [
              0,
              "#0d0887"
             ],
             [
              0.1111111111111111,
              "#46039f"
             ],
             [
              0.2222222222222222,
              "#7201a8"
             ],
             [
              0.3333333333333333,
              "#9c179e"
             ],
             [
              0.4444444444444444,
              "#bd3786"
             ],
             [
              0.5555555555555556,
              "#d8576b"
             ],
             [
              0.6666666666666666,
              "#ed7953"
             ],
             [
              0.7777777777777778,
              "#fb9f3a"
             ],
             [
              0.8888888888888888,
              "#fdca26"
             ],
             [
              1,
              "#f0f921"
             ]
            ],
            "type": "histogram2dcontour"
           }
          ],
          "mesh3d": [
           {
            "colorbar": {
             "outlinewidth": 0,
             "ticks": ""
            },
            "type": "mesh3d"
           }
          ],
          "parcoords": [
           {
            "line": {
             "colorbar": {
              "outlinewidth": 0,
              "ticks": ""
             }
            },
            "type": "parcoords"
           }
          ],
          "pie": [
           {
            "automargin": true,
            "type": "pie"
           }
          ],
          "scatter": [
           {
            "fillpattern": {
             "fillmode": "overlay",
             "size": 10,
             "solidity": 0.2
            },
            "type": "scatter"
           }
          ],
          "scatter3d": [
           {
            "line": {
             "colorbar": {
              "outlinewidth": 0,
              "ticks": ""
             }
            },
            "marker": {
             "colorbar": {
              "outlinewidth": 0,
              "ticks": ""
             }
            },
            "type": "scatter3d"
           }
          ],
          "scattercarpet": [
           {
            "marker": {
             "colorbar": {
              "outlinewidth": 0,
              "ticks": ""
             }
            },
            "type": "scattercarpet"
           }
          ],
          "scattergeo": [
           {
            "marker": {
             "colorbar": {
              "outlinewidth": 0,
              "ticks": ""
             }
            },
            "type": "scattergeo"
           }
          ],
          "scattergl": [
           {
            "marker": {
             "colorbar": {
              "outlinewidth": 0,
              "ticks": ""
             }
            },
            "type": "scattergl"
           }
          ],
          "scattermap": [
           {
            "marker": {
             "colorbar": {
              "outlinewidth": 0,
              "ticks": ""
             }
            },
            "type": "scattermap"
           }
          ],
          "scattermapbox": [
           {
            "marker": {
             "colorbar": {
              "outlinewidth": 0,
              "ticks": ""
             }
            },
            "type": "scattermapbox"
           }
          ],
          "scatterpolar": [
           {
            "marker": {
             "colorbar": {
              "outlinewidth": 0,
              "ticks": ""
             }
            },
            "type": "scatterpolar"
           }
          ],
          "scatterpolargl": [
           {
            "marker": {
             "colorbar": {
              "outlinewidth": 0,
              "ticks": ""
             }
            },
            "type": "scatterpolargl"
           }
          ],
          "scatterternary": [
           {
            "marker": {
             "colorbar": {
              "outlinewidth": 0,
              "ticks": ""
             }
            },
            "type": "scatterternary"
           }
          ],
          "surface": [
           {
            "colorbar": {
             "outlinewidth": 0,
             "ticks": ""
            },
            "colorscale": [
             [
              0,
              "#0d0887"
             ],
             [
              0.1111111111111111,
              "#46039f"
             ],
             [
              0.2222222222222222,
              "#7201a8"
             ],
             [
              0.3333333333333333,
              "#9c179e"
             ],
             [
              0.4444444444444444,
              "#bd3786"
             ],
             [
              0.5555555555555556,
              "#d8576b"
             ],
             [
              0.6666666666666666,
              "#ed7953"
             ],
             [
              0.7777777777777778,
              "#fb9f3a"
             ],
             [
              0.8888888888888888,
              "#fdca26"
             ],
             [
              1,
              "#f0f921"
             ]
            ],
            "type": "surface"
           }
          ],
          "table": [
           {
            "cells": {
             "fill": {
              "color": "#EBF0F8"
             },
             "line": {
              "color": "white"
             }
            },
            "header": {
             "fill": {
              "color": "#C8D4E3"
             },
             "line": {
              "color": "white"
             }
            },
            "type": "table"
           }
          ]
         },
         "layout": {
          "annotationdefaults": {
           "arrowcolor": "#2a3f5f",
           "arrowhead": 0,
           "arrowwidth": 1
          },
          "autotypenumbers": "strict",
          "coloraxis": {
           "colorbar": {
            "outlinewidth": 0,
            "ticks": ""
           }
          },
          "colorscale": {
           "diverging": [
            [
             0,
             "#8e0152"
            ],
            [
             0.1,
             "#c51b7d"
            ],
            [
             0.2,
             "#de77ae"
            ],
            [
             0.3,
             "#f1b6da"
            ],
            [
             0.4,
             "#fde0ef"
            ],
            [
             0.5,
             "#f7f7f7"
            ],
            [
             0.6,
             "#e6f5d0"
            ],
            [
             0.7,
             "#b8e186"
            ],
            [
             0.8,
             "#7fbc41"
            ],
            [
             0.9,
             "#4d9221"
            ],
            [
             1,
             "#276419"
            ]
           ],
           "sequential": [
            [
             0,
             "#0d0887"
            ],
            [
             0.1111111111111111,
             "#46039f"
            ],
            [
             0.2222222222222222,
             "#7201a8"
            ],
            [
             0.3333333333333333,
             "#9c179e"
            ],
            [
             0.4444444444444444,
             "#bd3786"
            ],
            [
             0.5555555555555556,
             "#d8576b"
            ],
            [
             0.6666666666666666,
             "#ed7953"
            ],
            [
             0.7777777777777778,
             "#fb9f3a"
            ],
            [
             0.8888888888888888,
             "#fdca26"
            ],
            [
             1,
             "#f0f921"
            ]
           ],
           "sequentialminus": [
            [
             0,
             "#0d0887"
            ],
            [
             0.1111111111111111,
             "#46039f"
            ],
            [
             0.2222222222222222,
             "#7201a8"
            ],
            [
             0.3333333333333333,
             "#9c179e"
            ],
            [
             0.4444444444444444,
             "#bd3786"
            ],
            [
             0.5555555555555556,
             "#d8576b"
            ],
            [
             0.6666666666666666,
             "#ed7953"
            ],
            [
             0.7777777777777778,
             "#fb9f3a"
            ],
            [
             0.8888888888888888,
             "#fdca26"
            ],
            [
             1,
             "#f0f921"
            ]
           ]
          },
          "colorway": [
           "#636efa",
           "#EF553B",
           "#00cc96",
           "#ab63fa",
           "#FFA15A",
           "#19d3f3",
           "#FF6692",
           "#B6E880",
           "#FF97FF",
           "#FECB52"
          ],
          "font": {
           "color": "#2a3f5f"
          },
          "geo": {
           "bgcolor": "white",
           "lakecolor": "white",
           "landcolor": "#E5ECF6",
           "showlakes": true,
           "showland": true,
           "subunitcolor": "white"
          },
          "hoverlabel": {
           "align": "left"
          },
          "hovermode": "closest",
          "mapbox": {
           "style": "light"
          },
          "paper_bgcolor": "white",
          "plot_bgcolor": "#E5ECF6",
          "polar": {
           "angularaxis": {
            "gridcolor": "white",
            "linecolor": "white",
            "ticks": ""
           },
           "bgcolor": "#E5ECF6",
           "radialaxis": {
            "gridcolor": "white",
            "linecolor": "white",
            "ticks": ""
           }
          },
          "scene": {
           "xaxis": {
            "backgroundcolor": "#E5ECF6",
            "gridcolor": "white",
            "gridwidth": 2,
            "linecolor": "white",
            "showbackground": true,
            "ticks": "",
            "zerolinecolor": "white"
           },
           "yaxis": {
            "backgroundcolor": "#E5ECF6",
            "gridcolor": "white",
            "gridwidth": 2,
            "linecolor": "white",
            "showbackground": true,
            "ticks": "",
            "zerolinecolor": "white"
           },
           "zaxis": {
            "backgroundcolor": "#E5ECF6",
            "gridcolor": "white",
            "gridwidth": 2,
            "linecolor": "white",
            "showbackground": true,
            "ticks": "",
            "zerolinecolor": "white"
           }
          },
          "shapedefaults": {
           "line": {
            "color": "#2a3f5f"
           }
          },
          "ternary": {
           "aaxis": {
            "gridcolor": "white",
            "linecolor": "white",
            "ticks": ""
           },
           "baxis": {
            "gridcolor": "white",
            "linecolor": "white",
            "ticks": ""
           },
           "bgcolor": "#E5ECF6",
           "caxis": {
            "gridcolor": "white",
            "linecolor": "white",
            "ticks": ""
           }
          },
          "title": {
           "x": 0.05
          },
          "xaxis": {
           "automargin": true,
           "gridcolor": "white",
           "linecolor": "white",
           "ticks": "",
           "title": {
            "standoff": 15
           },
           "zerolinecolor": "white",
           "zerolinewidth": 2
          },
          "yaxis": {
           "automargin": true,
           "gridcolor": "white",
           "linecolor": "white",
           "ticks": "",
           "title": {
            "standoff": 15
           },
           "zerolinecolor": "white",
           "zerolinewidth": 2
          }
         }
        },
        "title": {
         "text": "Distribution of Text Lengths (in words)"
        },
        "xaxis": {
         "anchor": "y",
         "domain": [
          0,
          1
         ],
         "title": {
          "text": "Text Length (words)"
         }
        },
        "yaxis": {
         "anchor": "x",
         "domain": [
          0,
          1
         ],
         "title": {
          "text": "count"
         }
        }
       }
      }
     },
     "metadata": {},
     "output_type": "display_data"
    }
   ],
   "source": [
    "\n",
    "\n",
    "text_lengths = X.apply(lambda x: len(x.split()))\n",
    "fig = px.histogram(text_lengths, nbins=50, title=\"Distribution of Text Lengths (in words)\", labels={'value': 'Text Length (words)', 'count': 'Frequency'})\n",
    "fig.show()"
   ]
  },
  {
   "cell_type": "code",
   "execution_count": 8,
   "id": "35a7ea20",
   "metadata": {},
   "outputs": [
    {
     "data": {
      "text/plain": [
       "np.float64(4731.099999999999)"
      ]
     },
     "execution_count": 8,
     "metadata": {},
     "output_type": "execute_result"
    }
   ],
   "source": [
    "text_lengths.quantile(0.99)"
   ]
  },
  {
   "cell_type": "code",
   "execution_count": 30,
   "id": "90723085",
   "metadata": {},
   "outputs": [],
   "source": [
    "\n",
    "vectorizer = TfidfVectorizer(max_features=5000)\n",
    "X_train_vec = vectorizer.fit_transform(X_train)\n",
    "X_test_vec = vectorizer.transform(X_test)"
   ]
  },
  {
   "cell_type": "code",
   "execution_count": 31,
   "id": "0fc3423a",
   "metadata": {},
   "outputs": [
    {
     "data": {
      "text/plain": [
       "['../model/vectorizer.pkl']"
      ]
     },
     "execution_count": 31,
     "metadata": {},
     "output_type": "execute_result"
    }
   ],
   "source": [
    "# Save the vectorizer\n",
    "if not os.path.exists('../model'):\n",
    "    os.makedirs('../model')\n",
    "joblib.dump(vectorizer, '../model/vectorizer.pkl')"
   ]
  },
  {
   "cell_type": "markdown",
   "id": "a78a1694",
   "metadata": {},
   "source": [
    "## Train a Classifier"
   ]
  },
  {
   "cell_type": "code",
   "execution_count": 18,
   "id": "9f123f96",
   "metadata": {},
   "outputs": [
    {
     "data": {
      "text/html": [
       "<style>#sk-container-id-1 {\n",
       "  /* Definition of color scheme common for light and dark mode */\n",
       "  --sklearn-color-text: #000;\n",
       "  --sklearn-color-text-muted: #666;\n",
       "  --sklearn-color-line: gray;\n",
       "  /* Definition of color scheme for unfitted estimators */\n",
       "  --sklearn-color-unfitted-level-0: #fff5e6;\n",
       "  --sklearn-color-unfitted-level-1: #f6e4d2;\n",
       "  --sklearn-color-unfitted-level-2: #ffe0b3;\n",
       "  --sklearn-color-unfitted-level-3: chocolate;\n",
       "  /* Definition of color scheme for fitted estimators */\n",
       "  --sklearn-color-fitted-level-0: #f0f8ff;\n",
       "  --sklearn-color-fitted-level-1: #d4ebff;\n",
       "  --sklearn-color-fitted-level-2: #b3dbfd;\n",
       "  --sklearn-color-fitted-level-3: cornflowerblue;\n",
       "\n",
       "  /* Specific color for light theme */\n",
       "  --sklearn-color-text-on-default-background: var(--sg-text-color, var(--theme-code-foreground, var(--jp-content-font-color1, black)));\n",
       "  --sklearn-color-background: var(--sg-background-color, var(--theme-background, var(--jp-layout-color0, white)));\n",
       "  --sklearn-color-border-box: var(--sg-text-color, var(--theme-code-foreground, var(--jp-content-font-color1, black)));\n",
       "  --sklearn-color-icon: #696969;\n",
       "\n",
       "  @media (prefers-color-scheme: dark) {\n",
       "    /* Redefinition of color scheme for dark theme */\n",
       "    --sklearn-color-text-on-default-background: var(--sg-text-color, var(--theme-code-foreground, var(--jp-content-font-color1, white)));\n",
       "    --sklearn-color-background: var(--sg-background-color, var(--theme-background, var(--jp-layout-color0, #111)));\n",
       "    --sklearn-color-border-box: var(--sg-text-color, var(--theme-code-foreground, var(--jp-content-font-color1, white)));\n",
       "    --sklearn-color-icon: #878787;\n",
       "  }\n",
       "}\n",
       "\n",
       "#sk-container-id-1 {\n",
       "  color: var(--sklearn-color-text);\n",
       "}\n",
       "\n",
       "#sk-container-id-1 pre {\n",
       "  padding: 0;\n",
       "}\n",
       "\n",
       "#sk-container-id-1 input.sk-hidden--visually {\n",
       "  border: 0;\n",
       "  clip: rect(1px 1px 1px 1px);\n",
       "  clip: rect(1px, 1px, 1px, 1px);\n",
       "  height: 1px;\n",
       "  margin: -1px;\n",
       "  overflow: hidden;\n",
       "  padding: 0;\n",
       "  position: absolute;\n",
       "  width: 1px;\n",
       "}\n",
       "\n",
       "#sk-container-id-1 div.sk-dashed-wrapped {\n",
       "  border: 1px dashed var(--sklearn-color-line);\n",
       "  margin: 0 0.4em 0.5em 0.4em;\n",
       "  box-sizing: border-box;\n",
       "  padding-bottom: 0.4em;\n",
       "  background-color: var(--sklearn-color-background);\n",
       "}\n",
       "\n",
       "#sk-container-id-1 div.sk-container {\n",
       "  /* jupyter's `normalize.less` sets `[hidden] { display: none; }`\n",
       "     but bootstrap.min.css set `[hidden] { display: none !important; }`\n",
       "     so we also need the `!important` here to be able to override the\n",
       "     default hidden behavior on the sphinx rendered scikit-learn.org.\n",
       "     See: https://github.com/scikit-learn/scikit-learn/issues/21755 */\n",
       "  display: inline-block !important;\n",
       "  position: relative;\n",
       "}\n",
       "\n",
       "#sk-container-id-1 div.sk-text-repr-fallback {\n",
       "  display: none;\n",
       "}\n",
       "\n",
       "div.sk-parallel-item,\n",
       "div.sk-serial,\n",
       "div.sk-item {\n",
       "  /* draw centered vertical line to link estimators */\n",
       "  background-image: linear-gradient(var(--sklearn-color-text-on-default-background), var(--sklearn-color-text-on-default-background));\n",
       "  background-size: 2px 100%;\n",
       "  background-repeat: no-repeat;\n",
       "  background-position: center center;\n",
       "}\n",
       "\n",
       "/* Parallel-specific style estimator block */\n",
       "\n",
       "#sk-container-id-1 div.sk-parallel-item::after {\n",
       "  content: \"\";\n",
       "  width: 100%;\n",
       "  border-bottom: 2px solid var(--sklearn-color-text-on-default-background);\n",
       "  flex-grow: 1;\n",
       "}\n",
       "\n",
       "#sk-container-id-1 div.sk-parallel {\n",
       "  display: flex;\n",
       "  align-items: stretch;\n",
       "  justify-content: center;\n",
       "  background-color: var(--sklearn-color-background);\n",
       "  position: relative;\n",
       "}\n",
       "\n",
       "#sk-container-id-1 div.sk-parallel-item {\n",
       "  display: flex;\n",
       "  flex-direction: column;\n",
       "}\n",
       "\n",
       "#sk-container-id-1 div.sk-parallel-item:first-child::after {\n",
       "  align-self: flex-end;\n",
       "  width: 50%;\n",
       "}\n",
       "\n",
       "#sk-container-id-1 div.sk-parallel-item:last-child::after {\n",
       "  align-self: flex-start;\n",
       "  width: 50%;\n",
       "}\n",
       "\n",
       "#sk-container-id-1 div.sk-parallel-item:only-child::after {\n",
       "  width: 0;\n",
       "}\n",
       "\n",
       "/* Serial-specific style estimator block */\n",
       "\n",
       "#sk-container-id-1 div.sk-serial {\n",
       "  display: flex;\n",
       "  flex-direction: column;\n",
       "  align-items: center;\n",
       "  background-color: var(--sklearn-color-background);\n",
       "  padding-right: 1em;\n",
       "  padding-left: 1em;\n",
       "}\n",
       "\n",
       "\n",
       "/* Toggleable style: style used for estimator/Pipeline/ColumnTransformer box that is\n",
       "clickable and can be expanded/collapsed.\n",
       "- Pipeline and ColumnTransformer use this feature and define the default style\n",
       "- Estimators will overwrite some part of the style using the `sk-estimator` class\n",
       "*/\n",
       "\n",
       "/* Pipeline and ColumnTransformer style (default) */\n",
       "\n",
       "#sk-container-id-1 div.sk-toggleable {\n",
       "  /* Default theme specific background. It is overwritten whether we have a\n",
       "  specific estimator or a Pipeline/ColumnTransformer */\n",
       "  background-color: var(--sklearn-color-background);\n",
       "}\n",
       "\n",
       "/* Toggleable label */\n",
       "#sk-container-id-1 label.sk-toggleable__label {\n",
       "  cursor: pointer;\n",
       "  display: flex;\n",
       "  width: 100%;\n",
       "  margin-bottom: 0;\n",
       "  padding: 0.5em;\n",
       "  box-sizing: border-box;\n",
       "  text-align: center;\n",
       "  align-items: start;\n",
       "  justify-content: space-between;\n",
       "  gap: 0.5em;\n",
       "}\n",
       "\n",
       "#sk-container-id-1 label.sk-toggleable__label .caption {\n",
       "  font-size: 0.6rem;\n",
       "  font-weight: lighter;\n",
       "  color: var(--sklearn-color-text-muted);\n",
       "}\n",
       "\n",
       "#sk-container-id-1 label.sk-toggleable__label-arrow:before {\n",
       "  /* Arrow on the left of the label */\n",
       "  content: \"▸\";\n",
       "  float: left;\n",
       "  margin-right: 0.25em;\n",
       "  color: var(--sklearn-color-icon);\n",
       "}\n",
       "\n",
       "#sk-container-id-1 label.sk-toggleable__label-arrow:hover:before {\n",
       "  color: var(--sklearn-color-text);\n",
       "}\n",
       "\n",
       "/* Toggleable content - dropdown */\n",
       "\n",
       "#sk-container-id-1 div.sk-toggleable__content {\n",
       "  max-height: 0;\n",
       "  max-width: 0;\n",
       "  overflow: hidden;\n",
       "  text-align: left;\n",
       "  /* unfitted */\n",
       "  background-color: var(--sklearn-color-unfitted-level-0);\n",
       "}\n",
       "\n",
       "#sk-container-id-1 div.sk-toggleable__content.fitted {\n",
       "  /* fitted */\n",
       "  background-color: var(--sklearn-color-fitted-level-0);\n",
       "}\n",
       "\n",
       "#sk-container-id-1 div.sk-toggleable__content pre {\n",
       "  margin: 0.2em;\n",
       "  border-radius: 0.25em;\n",
       "  color: var(--sklearn-color-text);\n",
       "  /* unfitted */\n",
       "  background-color: var(--sklearn-color-unfitted-level-0);\n",
       "}\n",
       "\n",
       "#sk-container-id-1 div.sk-toggleable__content.fitted pre {\n",
       "  /* unfitted */\n",
       "  background-color: var(--sklearn-color-fitted-level-0);\n",
       "}\n",
       "\n",
       "#sk-container-id-1 input.sk-toggleable__control:checked~div.sk-toggleable__content {\n",
       "  /* Expand drop-down */\n",
       "  max-height: 200px;\n",
       "  max-width: 100%;\n",
       "  overflow: auto;\n",
       "}\n",
       "\n",
       "#sk-container-id-1 input.sk-toggleable__control:checked~label.sk-toggleable__label-arrow:before {\n",
       "  content: \"▾\";\n",
       "}\n",
       "\n",
       "/* Pipeline/ColumnTransformer-specific style */\n",
       "\n",
       "#sk-container-id-1 div.sk-label input.sk-toggleable__control:checked~label.sk-toggleable__label {\n",
       "  color: var(--sklearn-color-text);\n",
       "  background-color: var(--sklearn-color-unfitted-level-2);\n",
       "}\n",
       "\n",
       "#sk-container-id-1 div.sk-label.fitted input.sk-toggleable__control:checked~label.sk-toggleable__label {\n",
       "  background-color: var(--sklearn-color-fitted-level-2);\n",
       "}\n",
       "\n",
       "/* Estimator-specific style */\n",
       "\n",
       "/* Colorize estimator box */\n",
       "#sk-container-id-1 div.sk-estimator input.sk-toggleable__control:checked~label.sk-toggleable__label {\n",
       "  /* unfitted */\n",
       "  background-color: var(--sklearn-color-unfitted-level-2);\n",
       "}\n",
       "\n",
       "#sk-container-id-1 div.sk-estimator.fitted input.sk-toggleable__control:checked~label.sk-toggleable__label {\n",
       "  /* fitted */\n",
       "  background-color: var(--sklearn-color-fitted-level-2);\n",
       "}\n",
       "\n",
       "#sk-container-id-1 div.sk-label label.sk-toggleable__label,\n",
       "#sk-container-id-1 div.sk-label label {\n",
       "  /* The background is the default theme color */\n",
       "  color: var(--sklearn-color-text-on-default-background);\n",
       "}\n",
       "\n",
       "/* On hover, darken the color of the background */\n",
       "#sk-container-id-1 div.sk-label:hover label.sk-toggleable__label {\n",
       "  color: var(--sklearn-color-text);\n",
       "  background-color: var(--sklearn-color-unfitted-level-2);\n",
       "}\n",
       "\n",
       "/* Label box, darken color on hover, fitted */\n",
       "#sk-container-id-1 div.sk-label.fitted:hover label.sk-toggleable__label.fitted {\n",
       "  color: var(--sklearn-color-text);\n",
       "  background-color: var(--sklearn-color-fitted-level-2);\n",
       "}\n",
       "\n",
       "/* Estimator label */\n",
       "\n",
       "#sk-container-id-1 div.sk-label label {\n",
       "  font-family: monospace;\n",
       "  font-weight: bold;\n",
       "  display: inline-block;\n",
       "  line-height: 1.2em;\n",
       "}\n",
       "\n",
       "#sk-container-id-1 div.sk-label-container {\n",
       "  text-align: center;\n",
       "}\n",
       "\n",
       "/* Estimator-specific */\n",
       "#sk-container-id-1 div.sk-estimator {\n",
       "  font-family: monospace;\n",
       "  border: 1px dotted var(--sklearn-color-border-box);\n",
       "  border-radius: 0.25em;\n",
       "  box-sizing: border-box;\n",
       "  margin-bottom: 0.5em;\n",
       "  /* unfitted */\n",
       "  background-color: var(--sklearn-color-unfitted-level-0);\n",
       "}\n",
       "\n",
       "#sk-container-id-1 div.sk-estimator.fitted {\n",
       "  /* fitted */\n",
       "  background-color: var(--sklearn-color-fitted-level-0);\n",
       "}\n",
       "\n",
       "/* on hover */\n",
       "#sk-container-id-1 div.sk-estimator:hover {\n",
       "  /* unfitted */\n",
       "  background-color: var(--sklearn-color-unfitted-level-2);\n",
       "}\n",
       "\n",
       "#sk-container-id-1 div.sk-estimator.fitted:hover {\n",
       "  /* fitted */\n",
       "  background-color: var(--sklearn-color-fitted-level-2);\n",
       "}\n",
       "\n",
       "/* Specification for estimator info (e.g. \"i\" and \"?\") */\n",
       "\n",
       "/* Common style for \"i\" and \"?\" */\n",
       "\n",
       ".sk-estimator-doc-link,\n",
       "a:link.sk-estimator-doc-link,\n",
       "a:visited.sk-estimator-doc-link {\n",
       "  float: right;\n",
       "  font-size: smaller;\n",
       "  line-height: 1em;\n",
       "  font-family: monospace;\n",
       "  background-color: var(--sklearn-color-background);\n",
       "  border-radius: 1em;\n",
       "  height: 1em;\n",
       "  width: 1em;\n",
       "  text-decoration: none !important;\n",
       "  margin-left: 0.5em;\n",
       "  text-align: center;\n",
       "  /* unfitted */\n",
       "  border: var(--sklearn-color-unfitted-level-1) 1pt solid;\n",
       "  color: var(--sklearn-color-unfitted-level-1);\n",
       "}\n",
       "\n",
       ".sk-estimator-doc-link.fitted,\n",
       "a:link.sk-estimator-doc-link.fitted,\n",
       "a:visited.sk-estimator-doc-link.fitted {\n",
       "  /* fitted */\n",
       "  border: var(--sklearn-color-fitted-level-1) 1pt solid;\n",
       "  color: var(--sklearn-color-fitted-level-1);\n",
       "}\n",
       "\n",
       "/* On hover */\n",
       "div.sk-estimator:hover .sk-estimator-doc-link:hover,\n",
       ".sk-estimator-doc-link:hover,\n",
       "div.sk-label-container:hover .sk-estimator-doc-link:hover,\n",
       ".sk-estimator-doc-link:hover {\n",
       "  /* unfitted */\n",
       "  background-color: var(--sklearn-color-unfitted-level-3);\n",
       "  color: var(--sklearn-color-background);\n",
       "  text-decoration: none;\n",
       "}\n",
       "\n",
       "div.sk-estimator.fitted:hover .sk-estimator-doc-link.fitted:hover,\n",
       ".sk-estimator-doc-link.fitted:hover,\n",
       "div.sk-label-container:hover .sk-estimator-doc-link.fitted:hover,\n",
       ".sk-estimator-doc-link.fitted:hover {\n",
       "  /* fitted */\n",
       "  background-color: var(--sklearn-color-fitted-level-3);\n",
       "  color: var(--sklearn-color-background);\n",
       "  text-decoration: none;\n",
       "}\n",
       "\n",
       "/* Span, style for the box shown on hovering the info icon */\n",
       ".sk-estimator-doc-link span {\n",
       "  display: none;\n",
       "  z-index: 9999;\n",
       "  position: relative;\n",
       "  font-weight: normal;\n",
       "  right: .2ex;\n",
       "  padding: .5ex;\n",
       "  margin: .5ex;\n",
       "  width: min-content;\n",
       "  min-width: 20ex;\n",
       "  max-width: 50ex;\n",
       "  color: var(--sklearn-color-text);\n",
       "  box-shadow: 2pt 2pt 4pt #999;\n",
       "  /* unfitted */\n",
       "  background: var(--sklearn-color-unfitted-level-0);\n",
       "  border: .5pt solid var(--sklearn-color-unfitted-level-3);\n",
       "}\n",
       "\n",
       ".sk-estimator-doc-link.fitted span {\n",
       "  /* fitted */\n",
       "  background: var(--sklearn-color-fitted-level-0);\n",
       "  border: var(--sklearn-color-fitted-level-3);\n",
       "}\n",
       "\n",
       ".sk-estimator-doc-link:hover span {\n",
       "  display: block;\n",
       "}\n",
       "\n",
       "/* \"?\"-specific style due to the `<a>` HTML tag */\n",
       "\n",
       "#sk-container-id-1 a.estimator_doc_link {\n",
       "  float: right;\n",
       "  font-size: 1rem;\n",
       "  line-height: 1em;\n",
       "  font-family: monospace;\n",
       "  background-color: var(--sklearn-color-background);\n",
       "  border-radius: 1rem;\n",
       "  height: 1rem;\n",
       "  width: 1rem;\n",
       "  text-decoration: none;\n",
       "  /* unfitted */\n",
       "  color: var(--sklearn-color-unfitted-level-1);\n",
       "  border: var(--sklearn-color-unfitted-level-1) 1pt solid;\n",
       "}\n",
       "\n",
       "#sk-container-id-1 a.estimator_doc_link.fitted {\n",
       "  /* fitted */\n",
       "  border: var(--sklearn-color-fitted-level-1) 1pt solid;\n",
       "  color: var(--sklearn-color-fitted-level-1);\n",
       "}\n",
       "\n",
       "/* On hover */\n",
       "#sk-container-id-1 a.estimator_doc_link:hover {\n",
       "  /* unfitted */\n",
       "  background-color: var(--sklearn-color-unfitted-level-3);\n",
       "  color: var(--sklearn-color-background);\n",
       "  text-decoration: none;\n",
       "}\n",
       "\n",
       "#sk-container-id-1 a.estimator_doc_link.fitted:hover {\n",
       "  /* fitted */\n",
       "  background-color: var(--sklearn-color-fitted-level-3);\n",
       "}\n",
       "</style><div id=\"sk-container-id-1\" class=\"sk-top-container\"><div class=\"sk-text-repr-fallback\"><pre>VotingClassifier(estimators=[(&#x27;rf&#x27;, RandomForestClassifier(random_state=42)),\n",
       "                             (&#x27;gb&#x27;,\n",
       "                              GradientBoostingClassifier(random_state=42)),\n",
       "                             (&#x27;svc&#x27;,\n",
       "                              LinearSVC(max_iter=2000, random_state=42))])</pre><b>In a Jupyter environment, please rerun this cell to show the HTML representation or trust the notebook. <br />On GitHub, the HTML representation is unable to render, please try loading this page with nbviewer.org.</b></div><div class=\"sk-container\" hidden><div class=\"sk-item sk-dashed-wrapped\"><div class=\"sk-label-container\"><div class=\"sk-label fitted sk-toggleable\"><input class=\"sk-toggleable__control sk-hidden--visually\" id=\"sk-estimator-id-1\" type=\"checkbox\" ><label for=\"sk-estimator-id-1\" class=\"sk-toggleable__label fitted sk-toggleable__label-arrow\"><div><div>VotingClassifier</div></div><div><a class=\"sk-estimator-doc-link fitted\" rel=\"noreferrer\" target=\"_blank\" href=\"https://scikit-learn.org/1.6/modules/generated/sklearn.ensemble.VotingClassifier.html\">?<span>Documentation for VotingClassifier</span></a><span class=\"sk-estimator-doc-link fitted\">i<span>Fitted</span></span></div></label><div class=\"sk-toggleable__content fitted\"><pre>VotingClassifier(estimators=[(&#x27;rf&#x27;, RandomForestClassifier(random_state=42)),\n",
       "                             (&#x27;gb&#x27;,\n",
       "                              GradientBoostingClassifier(random_state=42)),\n",
       "                             (&#x27;svc&#x27;,\n",
       "                              LinearSVC(max_iter=2000, random_state=42))])</pre></div> </div></div><div class=\"sk-parallel\"><div class=\"sk-parallel-item\"><div class=\"sk-item\"><div class=\"sk-label-container\"><div class=\"sk-label fitted sk-toggleable\"><label>rf</label></div></div><div class=\"sk-serial\"><div class=\"sk-item\"><div class=\"sk-estimator fitted sk-toggleable\"><input class=\"sk-toggleable__control sk-hidden--visually\" id=\"sk-estimator-id-2\" type=\"checkbox\" ><label for=\"sk-estimator-id-2\" class=\"sk-toggleable__label fitted sk-toggleable__label-arrow\"><div><div>RandomForestClassifier</div></div><div><a class=\"sk-estimator-doc-link fitted\" rel=\"noreferrer\" target=\"_blank\" href=\"https://scikit-learn.org/1.6/modules/generated/sklearn.ensemble.RandomForestClassifier.html\">?<span>Documentation for RandomForestClassifier</span></a></div></label><div class=\"sk-toggleable__content fitted\"><pre>RandomForestClassifier(random_state=42)</pre></div> </div></div></div></div></div><div class=\"sk-parallel-item\"><div class=\"sk-item\"><div class=\"sk-label-container\"><div class=\"sk-label fitted sk-toggleable\"><label>gb</label></div></div><div class=\"sk-serial\"><div class=\"sk-item\"><div class=\"sk-estimator fitted sk-toggleable\"><input class=\"sk-toggleable__control sk-hidden--visually\" id=\"sk-estimator-id-3\" type=\"checkbox\" ><label for=\"sk-estimator-id-3\" class=\"sk-toggleable__label fitted sk-toggleable__label-arrow\"><div><div>GradientBoostingClassifier</div></div><div><a class=\"sk-estimator-doc-link fitted\" rel=\"noreferrer\" target=\"_blank\" href=\"https://scikit-learn.org/1.6/modules/generated/sklearn.ensemble.GradientBoostingClassifier.html\">?<span>Documentation for GradientBoostingClassifier</span></a></div></label><div class=\"sk-toggleable__content fitted\"><pre>GradientBoostingClassifier(random_state=42)</pre></div> </div></div></div></div></div><div class=\"sk-parallel-item\"><div class=\"sk-item\"><div class=\"sk-label-container\"><div class=\"sk-label fitted sk-toggleable\"><label>svc</label></div></div><div class=\"sk-serial\"><div class=\"sk-item\"><div class=\"sk-estimator fitted sk-toggleable\"><input class=\"sk-toggleable__control sk-hidden--visually\" id=\"sk-estimator-id-4\" type=\"checkbox\" ><label for=\"sk-estimator-id-4\" class=\"sk-toggleable__label fitted sk-toggleable__label-arrow\"><div><div>LinearSVC</div></div><div><a class=\"sk-estimator-doc-link fitted\" rel=\"noreferrer\" target=\"_blank\" href=\"https://scikit-learn.org/1.6/modules/generated/sklearn.svm.LinearSVC.html\">?<span>Documentation for LinearSVC</span></a></div></label><div class=\"sk-toggleable__content fitted\"><pre>LinearSVC(max_iter=2000, random_state=42)</pre></div> </div></div></div></div></div></div></div></div></div>"
      ],
      "text/plain": [
       "VotingClassifier(estimators=[('rf', RandomForestClassifier(random_state=42)),\n",
       "                             ('gb',\n",
       "                              GradientBoostingClassifier(random_state=42)),\n",
       "                             ('svc',\n",
       "                              LinearSVC(max_iter=2000, random_state=42))])"
      ]
     },
     "execution_count": 18,
     "metadata": {},
     "output_type": "execute_result"
    }
   ],
   "source": [
    "\n",
    "\n",
    "# Define base models\n",
    "logreg = LogisticRegression(max_iter=1000)\n",
    "rf = RandomForestClassifier(n_estimators=100, random_state=42)\n",
    "gb = GradientBoostingClassifier(n_estimators=100, random_state=42)\n",
    "svc = LinearSVC(max_iter=2000, random_state=42)\n",
    "\n",
    "# Fit base models\n",
    "# logreg.fit(X_train_vec, y_train)\n",
    "rf.fit(X_train_vec, y_train)\n",
    "gb.fit(X_train_vec, y_train)\n",
    "svc.fit(X_train_vec, y_train)\n",
    "\n",
    "# Ensemble with soft voting (except LinearSVC, which does not support predict_proba, so use hard voting)\n",
    "ensemble = VotingClassifier(\n",
    "    estimators=[\n",
    "        # ('logreg', logreg),\n",
    "        ('rf', rf),\n",
    "        ('gb', gb),\n",
    "        ('svc', svc)\n",
    "    ],\n",
    "    voting='hard'\n",
    ")\n",
    "ensemble.fit(X_train_vec, y_train)\n",
    "\n",
    "\n",
    "\n"
   ]
  },
  {
   "cell_type": "markdown",
   "id": "d678fa47",
   "metadata": {},
   "source": [
    "### Evaluate the Model"
   ]
  },
  {
   "cell_type": "code",
   "execution_count": 19,
   "id": "88182412",
   "metadata": {},
   "outputs": [
    {
     "name": "stdout",
     "output_type": "stream",
     "text": [
      "              precision    recall  f1-score   support\n",
      "\n",
      "        cult       0.72      0.97      0.83       207\n",
      "    dramatic       1.00      0.03      0.06        34\n",
      "  paranormal       0.82      0.38      0.52        73\n",
      "\n",
      "    accuracy                           0.73       314\n",
      "   macro avg       0.85      0.46      0.47       314\n",
      "weighted avg       0.77      0.73      0.67       314\n",
      "\n",
      "              precision    recall  f1-score   support\n",
      "\n",
      "        cult       0.72      0.97      0.83       207\n",
      "    dramatic       1.00      0.03      0.06        34\n",
      "  paranormal       0.82      0.38      0.52        73\n",
      "\n",
      "    accuracy                           0.73       314\n",
      "   macro avg       0.85      0.46      0.47       314\n",
      "weighted avg       0.77      0.73      0.67       314\n",
      "\n"
     ]
    }
   ],
   "source": [
    "\n",
    "y_pred = ensemble.predict(X_test_vec)\n",
    "print(classification_report(y_test, y_pred, target_names=le.classes_))\n",
    "# Decode labels to original class names\n",
    "y_test_labels = le.inverse_transform(y_test)\n",
    "y_pred_labels = le.inverse_transform(y_pred)\n",
    "\n",
    "print(classification_report(y_test_labels, y_pred_labels))\n"
   ]
  },
  {
   "cell_type": "code",
   "execution_count": 20,
   "id": "ea04d160",
   "metadata": {},
   "outputs": [
    {
     "data": {
      "text/plain": [
       "['../models/ensemble_model.pkl']"
      ]
     },
     "execution_count": 20,
     "metadata": {},
     "output_type": "execute_result"
    }
   ],
   "source": [
    "\n",
    "# Ensure the models directory exists\n",
    "os.makedirs('../model', exist_ok=True)\n",
    "\n",
    "# Save base models\n",
    "# joblib.dump(logreg, '../model/logreg_model.pkl')\n",
    "joblib.dump(rf, '../model/rf_model.pkl')\n",
    "joblib.dump(gb, '../model/gb_model.pkl')\n",
    "joblib.dump(svc, '../model/svc_model.pkl')\n",
    "# Save ensemble model\n",
    "joblib.dump(ensemble, '../model/ensemble_model.pkl')"
   ]
  },
  {
   "cell_type": "markdown",
   "id": "a940dcdc",
   "metadata": {},
   "source": [
    "## Build a Demo App (Gradio)"
   ]
  },
  {
   "cell_type": "code",
   "execution_count": 10,
   "id": "bfe8225d",
   "metadata": {},
   "outputs": [
    {
     "name": "stdout",
     "output_type": "stream",
     "text": [
      "* Running on local URL:  http://127.0.0.1:7860\n",
      "* To create a public link, set `share=True` in `launch()`.\n"
     ]
    },
    {
     "data": {
      "text/html": [
       "<div><iframe src=\"http://127.0.0.1:7860/\" width=\"100%\" height=\"500\" allow=\"autoplay; camera; microphone; clipboard-read; clipboard-write;\" frameborder=\"0\" allowfullscreen></iframe></div>"
      ],
      "text/plain": [
       "<IPython.core.display.HTML object>"
      ]
     },
     "metadata": {},
     "output_type": "display_data"
    },
    {
     "data": {
      "text/plain": []
     },
     "execution_count": 10,
     "metadata": {},
     "output_type": "execute_result"
    },
    {
     "name": "stdout",
     "output_type": "stream",
     "text": [
      "Using existing dataset file at: .gradio\\flagged\\dataset1.csv\n"
     ]
    }
   ],
   "source": [
    "\n",
    "# lodad joblib\n",
    "vectorizer = joblib.load('../model/vectorizer.pkl')\n",
    "ensemble = joblib.load('../model/ensemble_model.pkl')\n",
    "model = ensemble\n",
    "def predict(text):\n",
    "    cleaned = clean_text(text)\n",
    "    vec = vectorizer.transform([cleaned])\n",
    "    pred = model.predict(vec)\n",
    "    return le.inverse_transform(pred)[0]\n",
    "\n",
    "demo = gr.Interface(fn=predict, inputs=\"textbox\", outputs=\"label\", title=\"Text Classifier\", description=\"Classifies into: cult, paranormal, dramatic\")\n",
    "demo.launch()\n"
   ]
  },
  {
   "cell_type": "code",
   "execution_count": 34,
   "id": "cef89fc8",
   "metadata": {},
   "outputs": [
    {
     "data": {
      "text/plain": [
       "'dr charles forbin eric braeden stands in the middle of an incredibly vast complex of reeltoreel tapes pilot lights and punch tapes this complex is named colossus and is the product of years of work toward a single goal build a sophisticated and impregnable computer that can run americas missile defenses without interference from humans and retaliate at once to any threat an enemy might poseclad in a white overall he walks through the complex a remote control in his hand as he activates bank after bank of the huge complex that done he walks out of the complex sealing huge vault doors behind him the last door to close is the one to the outside of a mountain in colorado once that door closes it will never openand even if anyone could get in deadly radiation would kill him within minutesoutside the president gordon pinsent the secretaries of defense sid mccoy and state byron morrow and the press greet him he makes a brief speech then flies to washington dc with the presidential partyin the white house the president orchestrates a grand announcement to declassify project colossus totally and let the world know what the united states has built forbin is on hand to explain what colossus can do and how it can monitor the state of the world including every telephone call radio and tv broadcast or other mode of communicationback in the primary command center on the california coast cleo markham susan clark hosts a wild party with all the technicians who worked on the project including drs blake willard sage johnson martin brooks fisher georg sanford brown peterson lew brown and harrison tom basham and secretary angela fields marin rossand in the middle of that celebration colossus abruptly issues a cryptic warning there is another systemthe angry president summons grauber william schallert director of central intelligence to ask him why the censored he the president had to hear from colossus not from the cia that the russians had a colossus of their own forbin flies back to his command center to confer with cleo and his staff they run a diagnostic programwhich runs about 150 times as fast as theyre used to seeing and thena propos of nothingcolossus requestsno orderseveryone to set up a communications link between colossus and guardian colossus soviet counterpartintrigued by the possibilities forbin urges the president to set the link up the president and the soviet party chairman leonid rostoff agreecolossus begins by sending guardian a multiplication table then progresses rapidly to calculus then to very highly advanced mathematics next guardian starts sending the same output back to colossus then colossus slows down to let guardian catch up and then they continue with incredibly abstruse formulas in perfect synchronyand then they stop when forbin asks colossus to tell him whats happening colossus replies that it and guardian have developed their own intersystem language and will start their own dialoga highpowered dialog that no human can hope to followthe soviet chairman calls the us president immediately and suggests pulling the plug in fear that each system is disclosing classified information to the other forbin and his own counterpart kuprin alex rodine protest to no availthey cut off communicationsand then colossus demands they restore it when the humans refuse colossus threatens action but wont say what then the president dictates a hardnosed message to colossuswhich response by launching a missile at a soviet oil complex guardian for its part launches a missile at henderson afb in texashurriedly forbin and kuprin restore the linkand while colossus can intercept the inbound missile guardian cannotor does notintercept the outbound colossus then demands the humans give it a tap into the white housekremlin hot line the only line colossus cannotyetlisten in onforbin suggests making one last call over that line to ask kuprin to meet him in rome forbin flies there while the news desks explain away a stray missile that colossus successfully intercepted and a meteor strike that took out the oil complexwhile forbin is in rome colossus issues another demand i want forbin cleo markham desperately tries to stall colossus by saying that forbin is trying to catch some badlyneeded sleep but colossus is not fooled where is forbin it demands so cleo confesses the truthcolossus and guardian engage in more dialog while colossus tells the humans to have forbin on the line at 0800 the next morning or action will be taken also guardian dictates an ultimatum to the soviet authorities kill kuprin or a missile will take out moscowonce forbin returns to the command center colossus orders him to arrange for visual and audio surveillance to cover him at all timesor the colossusguardian team will nuke washington forbin reluctantly agreesbut has one last meeting before the deadline at this meeting he proposes three things1 the technicians will write a program powerful enough to overload colossus circuits2 the air force will painstakingly seek to disable all the missiles3 cleo markham will pretend to be forbins mistress and if forbin can convince colossus to let them have a little privacy in their lovemaking forbin can get information in and out with cleo as the channelthe next day forbin goes under surveillance as agreed in a dialog fraught with irony forbin gets colossus to agree to let him and cleo have private momentsunder several almost humiliating conditions among them that forbin work with his technicians to give colossus a proper voice so that colossus can communicate by more means than through slow terminals and teletypescleo markham succeeds in playing the part of a lover forbin keeps the relationship coldly professional as soon as the cameras and mikes are offthe first night the second night cleo asks forbin to make it somewhat more than professional it becomes clear that cleo has been in love with forbin the whole time though she knew him to be a cold fish and is now availing herself of the opportunity to thaw him outthe overload program ends in worse than failure colossus correctly identifies johnson and fisher as the authors of the overload program and orders the guards to shoot them downright outside forbins window where they will lie where they fell overnight and until the next morning when the guard will then cremate them that night is another night for cleo to visit forbin and forbin breaks confinement to drink at nightwhich colossus criticizes him forthe missilecrippling program however has another stroke of luck when colossus tries out its new voice paul frees it announces that colossus and guardian are now one corporate entity then it calls for manual realignment of all missiles to new targetsthe capital cities of nationstates not under the direct control of either constituent mainframe grauber sees the point at once in a few weeks they can reservice every missileand place dummy guidance modules that will render them uselessbut colossus has the last laugh one day it is confidently sending out blueprints for a third system that it expects forbin to build for it on crete after evacuating its entire population the next day it addresses the worldand after boasting that it is now the ruler of the world it says it has known about the sabotage since its inception and will now detonate two missiles one in death valley and one in the ukraine that were still activethe detonation kills grauber the secstate and the secdefforbin crushed by what he has seen takes a desktop telephone jerks out its cable and throws it into a monitor colossus takes no notice and goes on with its message that time and events will vindicate it forbin reacts in the most emotion he has ever displayed in his life you illegitimate son he shouts and when paparazzi start snapping pictures at him he roars at them to get out but cleo markham reaches for his hand and smiles warmlythe last word colossus has for forbin is that colossus will release forbin from surveillance the next day and expects forbin to work with it even if reluctantly at first forbin insists he will never do this perhaps knowing that his protests are as futile as are those of a petulant child under parental or school discipline'"
      ]
     },
     "execution_count": 34,
     "metadata": {},
     "output_type": "execute_result"
    }
   ],
   "source": [
    "X_test[125]"
   ]
  },
  {
   "cell_type": "code",
   "execution_count": null,
   "id": "3d852bf4",
   "metadata": {},
   "outputs": [],
   "source": [
    "\n",
    "\n",
    "app = FastAPI()\n",
    "\n",
    "class InputText(BaseModel):\n",
    "    text: str\n",
    "\n",
    "@app.post(\"/predict\")\n",
    "def get_prediction(input: InputText):\n",
    "    cleaned = clean_text(input.text)\n",
    "    vec = vectorizer.transform([cleaned])\n",
    "    pred = model.predict(vec)\n",
    "    label = le.inverse_transform(pred)[0]\n",
    "    return {\"prediction\": label}\n"
   ]
  },
  {
   "cell_type": "code",
   "execution_count": null,
   "id": "a342e2ee",
   "metadata": {},
   "outputs": [],
   "source": []
  }
 ],
 "metadata": {
  "kernelspec": {
   "display_name": "enhesa",
   "language": "python",
   "name": "python3"
  },
  "language_info": {
   "codemirror_mode": {
    "name": "ipython",
    "version": 3
   },
   "file_extension": ".py",
   "mimetype": "text/x-python",
   "name": "python",
   "nbconvert_exporter": "python",
   "pygments_lexer": "ipython3",
   "version": "3.11.13"
  }
 },
 "nbformat": 4,
 "nbformat_minor": 5
}
