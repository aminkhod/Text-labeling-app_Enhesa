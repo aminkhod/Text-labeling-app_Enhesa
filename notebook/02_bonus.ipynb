{
 "cells": [
  {
   "cell_type": "code",
   "execution_count": 40,
   "id": "041a71a7",
   "metadata": {},
   "outputs": [],
   "source": [
    "import pandas as pd\n",
    "import heapq\n"
   ]
  },
  {
   "cell_type": "markdown",
   "id": "86220dd3",
   "metadata": {},
   "source": [
    "### Load and Explore "
   ]
  },
  {
   "cell_type": "code",
   "execution_count": 41,
   "id": "38854985",
   "metadata": {},
   "outputs": [
    {
     "name": "stdout",
     "output_type": "stream",
     "text": [
      "   Unnamed: 0                                          Title  \\\n",
      "0           0                        I tre volti della paura   \n",
      "1           1  Dungeons & Dragons: The Book of Vile Darkness   \n",
      "2           2                     The Shop Around the Corner   \n",
      "3           3                             Mr. Holland's Opus   \n",
      "4           4                                       Scarface   \n",
      "\n",
      "                                            Synopsis  \\\n",
      "0  Note: this synopsis is for the orginal Italian...   \n",
      "1  Two thousand years ago, Nhagruul the Foul, a s...   \n",
      "2  Matuschek's, a gift store in Budapest, is the ...   \n",
      "3  Glenn Holland, not a morning person by anyone'...   \n",
      "4  In May 1980, a Cuban man named Tony Montana (A...   \n",
      "\n",
      "                                                 Tag  \n",
      "0          cult, horror, gothic, murder, atmospheric  \n",
      "1                                           violence  \n",
      "2                                           romantic  \n",
      "3             inspiring, romantic, stupid, feel-good  \n",
      "4  cruelty, murder, dramatic, cult, violence, atm...  \n",
      "Index(['Unnamed: 0', 'Title', 'Synopsis', 'Tag'], dtype='object')\n"
     ]
    }
   ],
   "source": [
    "\n",
    "df = pd.read_csv(\"../data/bonus_task.csv\")\n",
    "print(df.head())\n",
    "print(df.columns)\n"
   ]
  },
  {
   "cell_type": "markdown",
   "id": "e5b028e1",
   "metadata": {},
   "source": [
    "### Preprocess for Multi-label Format"
   ]
  },
  {
   "cell_type": "code",
   "execution_count": 42,
   "id": "76e57219",
   "metadata": {},
   "outputs": [
    {
     "name": "stdout",
     "output_type": "stream",
     "text": [
      "['absurd', 'action', 'adult comedy', 'allegory', 'alternate history', 'alternate reality', 'anti war', 'atmospheric', 'autobiographical', 'avant garde', 'blaxploitation', 'bleak', 'boring', 'brainwashing', 'christian film', 'claustrophobic', 'clever', 'comedy', 'comic', 'cruelty', 'cult', 'cute', 'dark', 'depressing', 'dramatic', 'entertaining', 'fantasy', 'feel-good', 'flashback', 'good versus evil', 'gothic', 'grindhouse film', 'haunting', 'historical', 'historical fiction', 'home movie', 'horror', 'humor', 'insanity', 'inspiring', 'intrigue', 'magical realism', 'melodrama', 'murder', 'mystery', 'neo noir', 'non fiction', 'paranormal', 'philosophical', 'plot twist', 'pornographic', 'prank', 'psychedelic', 'psychological', 'queer', 'realism', 'revenge', 'romantic', 'sadist', 'satire', 'sci-fi', 'sentimental', 'storytelling', 'stupid', 'suicidal', 'suspenseful', 'thought-provoking', 'tragedy', 'violence', 'western', 'whimsical']\n"
     ]
    }
   ],
   "source": [
    "# Clean up and parse multi-label tags\n",
    "df['labels'] = df['Tag'].apply(lambda x: [t.strip() for t in x.split(',')])\n",
    "df['labels'] \n",
    "label_set = sorted({tag for labels in df['labels'] for tag in labels})\n",
    "print(label_set)"
   ]
  },
  {
   "cell_type": "code",
   "execution_count": 43,
   "id": "6c6cfc34",
   "metadata": {},
   "outputs": [
    {
     "data": {
      "text/plain": [
       "labels\n",
       "[murder]                                                                  1004\n",
       "[romantic]                                                                 731\n",
       "[violence]                                                                 584\n",
       "[psychedelic]                                                              437\n",
       "[flashback]                                                                332\n",
       "                                                                          ... \n",
       "[absurd, alternate reality]                                                  1\n",
       "[violence, comedy, neo noir]                                                 1\n",
       "[comedy, boring, bleak, cult, psychedelic, autobiographical, romantic]       1\n",
       "[cult, psychedelic, romantic, flashback]                                     1\n",
       "[cult, horror, gothic, murder, atmospheric]                                  1\n",
       "Name: count, Length: 5604, dtype: int64"
      ]
     },
     "execution_count": 43,
     "metadata": {},
     "output_type": "execute_result"
    }
   ],
   "source": [
    "df['labels'] .value_counts()"
   ]
  },
  {
   "cell_type": "code",
   "execution_count": 45,
   "id": "1781311b",
   "metadata": {},
   "outputs": [],
   "source": [
    "# Build a label “definition” for RAG retrieval:\n",
    "\n",
    "# Richer descriptions or examples to label_knowledge\n",
    "label_knowledge = {\n",
    "        \"absurd\": \"Absurd films feature illogical, surreal, or nonsensical elements. Example: Monty Python's The Meaning of Life.\",\n",
    "        \"action\": \"Action films emphasize physical feats, fights, chases, and stunts. Example: Die Hard.\",\n",
    "        \"adult comedy\": \"Adult comedy contains mature humor, often with sexual or risqué themes. Example: American Pie.\",\n",
    "        \"allegory\": \"Allegorical films use symbolic figures and actions to convey deeper meanings. Example: Animal Farm.\",\n",
    "        \"alternate history\": \"Alternate history explores 'what if' scenarios diverging from real historical events. Example: The Man in the High Castle.\",\n",
    "        \"alternate reality\": \"Alternate reality stories take place in worlds different from our own. Example: The Matrix.\",\n",
    "        \"anti war\": \"Anti-war films critique or oppose war and its consequences. Example: Apocalypse Now.\",\n",
    "        \"atmospheric\": \"Atmospheric films focus on mood, visuals, and tension. Example: Blade Runner.\",\n",
    "        \"autobiographical\": \"Autobiographical films are based on the creator's own life. Example: 8½ by Federico Fellini.\",\n",
    "        \"avant garde\": \"Avant-garde films experiment with unconventional techniques and narratives. Example: Un Chien Andalou.\",\n",
    "        \"blaxploitation\": \"Blaxploitation films feature Black actors and urban settings, often with social commentary. Example: Shaft.\",\n",
    "        \"bleak\": \"Bleak films have a grim, hopeless, or depressing tone. Example: Requiem for a Dream.\",\n",
    "        \"boring\": \"Boring films are perceived as dull or unengaging. Example: Some viewers consider Solaris (1972) slow and boring.\",\n",
    "        \"brainwashing\": \"Brainwashing themes involve manipulation and control of minds. Example: The Manchurian Candidate.\",\n",
    "        \"christian film\": \"Christian films focus on Christian themes, values, or stories. Example: The Passion of the Christ.\",\n",
    "        \"claustrophobic\": \"Claustrophobic films evoke a sense of confinement or restricted space. Example: Buried.\",\n",
    "        \"clever\": \"Clever films feature smart plots, witty dialogue, or inventive storytelling. Example: The Usual Suspects.\",\n",
    "        \"comedy\": \"Comedy films aim to amuse and entertain through humor. Example: Airplane!.\",\n",
    "        \"comic\": \"Comic films are lighthearted and often based on comic books or strips. Example: Scott Pilgrim vs. the World.\",\n",
    "        \"cruelty\": \"Cruelty involves suffering or abuse intentionally inflicted. Example: Saw.\",\n",
    "        \"cult\": \"Cult films are often strange or niche and attract small, loyal audiences. Example: The Rocky Horror Picture Show.\",\n",
    "        \"cute\": \"Cute films are charming, endearing, or visually appealing. Example: My Neighbor Totoro.\",\n",
    "        \"dark\": \"Dark films explore grim, disturbing, or morally ambiguous themes. Example: Se7en.\",\n",
    "        \"depressing\": \"Depressing films evoke sadness or despair. Example: Grave of the Fireflies.\",\n",
    "        \"dramatic\": \"Dramatic stories focus on emotional, social, or moral conflict. Example: The Godfather.\",\n",
    "        \"entertaining\": \"Entertaining films are enjoyable and engaging for audiences. Example: Guardians of the Galaxy.\",\n",
    "        \"fantasy\": \"Fantasy films feature magical, supernatural, or imaginary elements. Example: The Lord of the Rings.\",\n",
    "        \"feel-good\": \"Feel-good stories are emotionally satisfying and heartwarming. Example: Amélie.\",\n",
    "        \"flashback\": \"Flashback films use scenes set in earlier times to provide context. Example: Citizen Kane.\",\n",
    "        \"good versus evil\": \"Good versus evil stories center on the struggle between opposing moral forces. Example: Star Wars.\",\n",
    "        \"gothic\": \"Gothic stories mix horror with romance or mystery. Example: Crimson Peak.\",\n",
    "        \"grindhouse film\": \"Grindhouse films are low-budget, exploitative, and often sensational. Example: Planet Terror.\",\n",
    "        \"haunting\": \"Haunting films leave a lingering emotional or psychological impact. Example: The Others.\",\n",
    "        \"historical\": \"Historical films are set in or based on real past events. Example: Schindler's List.\",\n",
    "        \"historical fiction\": \"Historical fiction blends real history with fictional elements. Example: Titanic.\",\n",
    "        \"home movie\": \"Home movies are amateur films, often documenting personal events. Example: The Blair Witch Project (styled as found footage).\",\n",
    "        \"horror\": \"Horror involves fear, shock, and the supernatural. Example: The Exorcist.\",\n",
    "        \"humor\": \"Humor is the quality of being amusing or comical. Example: Dumb and Dumber.\",\n",
    "        \"insanity\": \"Insanity themes explore madness, mental illness, or psychological breakdown. Example: Black Swan.\",\n",
    "        \"inspiring\": \"Inspiring films uplift and motivate the viewer. Example: The Pursuit of Happyness.\",\n",
    "        \"intrigue\": \"Intrigue films involve suspense, secrets, and complex plots. Example: Tinker Tailor Soldier Spy.\",\n",
    "        \"magical realism\": \"Magical realism blends realistic settings with magical elements. Example: Pan's Labyrinth.\",\n",
    "        \"melodrama\": \"Melodramas emphasize exaggerated emotions and interpersonal conflicts. Example: Terms of Endearment.\",\n",
    "        \"murder\": \"Murder-themed plots involve killings, crime, and investigations. Example: Zodiac.\",\n",
    "        \"mystery\": \"Mystery films revolve around solving puzzles or crimes. Example: Knives Out.\",\n",
    "        \"neo noir\": \"Neo-noir updates classic film noir themes with modern sensibilities. Example: Drive.\",\n",
    "        \"non fiction\": \"Non-fiction films depict real events, people, or facts. Example: Bowling for Columbine.\",\n",
    "        \"paranormal\": \"Paranormal films involve supernatural phenomena beyond scientific explanation. Example: Paranormal Activity.\",\n",
    "        \"philosophical\": \"Philosophical films explore deep questions about existence, reality, or ethics. Example: Waking Life.\",\n",
    "        \"plot twist\": \"Plot twist films feature unexpected changes in the storyline. Example: The Sixth Sense.\",\n",
    "        \"pornographic\": \"Pornographic films depict explicit sexual content. Example: Deep Throat.\",\n",
    "        \"prank\": \"Prank films involve practical jokes or trickery. Example: Jackass: The Movie.\",\n",
    "        \"psychedelic\": \"Psychedelic films use surreal visuals and sounds to evoke altered states. Example: 2001: A Space Odyssey.\",\n",
    "        \"psychological\": \"Psychological films focus on mental states, emotions, and mind games. Example: Fight Club.\",\n",
    "        \"queer\": \"Queer films explore LGBTQ+ themes or characters. Example: Moonlight.\",\n",
    "        \"realism\": \"Realism strives for authentic, true-to-life representation. Example: Bicycle Thieves.\",\n",
    "        \"revenge\": \"Revenge films center on characters seeking retribution. Example: Oldboy.\",\n",
    "        \"romantic\": \"Romantic plots explore love and relationships. Example: The Notebook.\",\n",
    "        \"sadist\": \"Sadist themes involve deriving pleasure from inflicting pain. Example: The Night Porter.\",\n",
    "        \"satire\": \"Satire uses humor, irony, or exaggeration to criticize or mock. Example: Dr. Strangelove.\",\n",
    "        \"science fiction\": \"Science fiction explores futuristic, technological, or extraterrestrial concepts. Example: Interstellar.\",\n",
    "        \"self-reflexive\": \"Self-reflexive films comment on their own creation or the filmmaking process. Example: Adaptation.\",\n",
    "        \"shocking\": \"Shocking films aim to surprise or disturb the audience. Example: Audition.\",\n",
    "        \"slapstick\": \"Slapstick comedy relies on exaggerated physical humor. Example: The Pink Panther.\",\n",
    "        \"slow\": \"Slow films have a deliberate, unhurried pace. Example: 2001: A Space Odyssey.\",\n",
    "        \"spoof\": \"Spoof films parody or lampoon other genres or works. Example: Spaceballs.\",\n",
    "        \"stupid\": \"Stupid usually implies silly or exaggerated comedy. Example: Dumb and Dumber.\",\n",
    "        \"stylized\": \"Stylized films use distinctive visual or narrative techniques. Example: Sin City.\",\n",
    "        \"surreal\": \"Surreal films feature dreamlike, bizarre, or illogical elements. Example: Eraserhead.\",\n",
    "        \"suspense\": \"Suspense films build tension and uncertainty. Example: Rear Window.\",\n",
    "        \"thriller\": \"Thrillers are fast-paced, exciting, and often involve danger. Example: North by Northwest.\",\n",
    "        \"tragic\": \"Tragic films end in disaster or evoke pity and sorrow. Example: Romeo + Juliet.\",\n",
    "        \"twist ending\": \"Twist ending films conclude with an unexpected turn. Example: The Usual Suspects.\",\n",
    "        \"uplifting\": \"Uplifting films inspire hope and positivity. Example: Billy Elliot.\",\n",
    "        \"violence\": \"Violent stories include physical force and conflict. Example: John Wick.\",\n",
    "        \"weird\": \"Weird films are unusual, eccentric, or unconventional. Example: Being John Malkovich.\"\n",
    "}\n"
   ]
  },
  {
   "cell_type": "markdown",
   "id": "51837cde",
   "metadata": {},
   "source": [
    "### Encode with Sentence-Transformers"
   ]
  },
  {
   "cell_type": "code",
   "execution_count": 49,
   "id": "881b79e6",
   "metadata": {},
   "outputs": [
    {
     "name": "stderr",
     "output_type": "stream",
     "text": [
      "d:\\program\\miniconda3\\envs\\enhesa\\Lib\\site-packages\\huggingface_hub\\file_download.py:143: UserWarning: `huggingface_hub` cache-system uses symlinks by default to efficiently store duplicated files but your machine does not support them in C:\\Users\\nb30480\\.cache\\huggingface\\hub\\models--sentence-transformers--all-mpnet-base-v2. Caching files will still work but in a degraded version that might require more space on your disk. This warning can be disabled by setting the `HF_HUB_DISABLE_SYMLINKS_WARNING` environment variable. For more details, see https://huggingface.co/docs/huggingface_hub/how-to-cache#limitations.\n",
      "To support symlinks on Windows, you either need to activate Developer Mode or to run Python as an administrator. In order to activate developer mode, see this article: https://docs.microsoft.com/en-us/windows/apps/get-started/enable-your-device-for-development\n",
      "  warnings.warn(message)\n",
      "Xet Storage is enabled for this repo, but the 'hf_xet' package is not installed. Falling back to regular HTTP download. For better performance, install the package with: `pip install huggingface_hub[hf_xet]` or `pip install hf_xet`\n"
     ]
    }
   ],
   "source": [
    "from sentence_transformers import SentenceTransformer\n",
    "from sklearn.metrics.pairwise import cosine_similarity\n",
    "\n",
    "# Try to load the model with a longer timeout and local cache\n",
    "try:\n",
    "    # embedder = SentenceTransformer(\"all-MiniLM-L6-v2\")\n",
    "    embedder = SentenceTransformer(\"all-mpnet-base-v2\")\n",
    "\n",
    "    \n",
    "except Exception as e:\n",
    "    print(\"Model download failed, please check your internet connection or try again later.\")\n",
    "    raise e\n",
    "\n",
    "# Encode label definitions\n",
    "label_embeddings = {\n",
    "    label: embedder.encode(definition)\n",
    "    for label, definition in label_knowledge.items()\n",
    "}\n"
   ]
  },
  {
   "cell_type": "markdown",
   "id": "375a6388",
   "metadata": {},
   "source": [
    "### Predict Labels with RAG-Like Retrieval"
   ]
  },
  {
   "cell_type": "code",
   "execution_count": 50,
   "id": "a69b82d5",
   "metadata": {},
   "outputs": [],
   "source": [
    "def predict_labels_rag(text, threshold=0.4):\n",
    "    text_emb = embedder.encode(text)\n",
    "    scores = {\n",
    "        label: cosine_similarity([text_emb], [label_emb])[0][0]\n",
    "        for label, label_emb in label_embeddings.items()\n",
    "    }\n",
    "    top_k = 3\n",
    "    top_labels = heapq.nlargest(top_k, scores.items(), key=lambda x: x[1])\n",
    "    return [label for label, score in top_labels]\n",
    "\n"
   ]
  },
  {
   "cell_type": "markdown",
   "id": "938e42a9",
   "metadata": {},
   "source": [
    "### Evaluate Using MultiLabelBinarizer"
   ]
  },
  {
   "cell_type": "code",
   "execution_count": 51,
   "id": "8ef88c4c",
   "metadata": {},
   "outputs": [
    {
     "name": "stderr",
     "output_type": "stream",
     "text": [
      "d:\\program\\miniconda3\\envs\\enhesa\\Lib\\site-packages\\sklearn\\preprocessing\\_label.py:909: UserWarning: unknown class(es) ['sci-fi', 'sentimental', 'storytelling', 'suicidal', 'suspenseful', 'thought-provoking', 'tragedy', 'western', 'whimsical'] will be ignored\n",
      "  warnings.warn(\n"
     ]
    },
    {
     "name": "stdout",
     "output_type": "stream",
     "text": [
      "Micro F1 score: 0.1295249198484407\n",
      "Macro F1 score: 0.07047765312887279\n"
     ]
    }
   ],
   "source": [
    "from sklearn.preprocessing import MultiLabelBinarizer\n",
    "from sklearn.metrics import f1_score\n",
    "\n",
    "mlb = MultiLabelBinarizer(classes=list(label_knowledge.keys()))\n",
    "y_true = mlb.fit_transform(df['labels'])\n",
    "y_pred = mlb.transform(df['Synopsis'].apply(predict_labels_rag))\n",
    "\n",
    "print(\"Micro F1 score:\", f1_score(y_true, y_pred, average='micro'))\n",
    "print(\"Macro F1 score:\", f1_score(y_true, y_pred, average='macro'))\n"
   ]
  },
  {
   "cell_type": "code",
   "execution_count": 52,
   "id": "307686cd",
   "metadata": {},
   "outputs": [
    {
     "data": {
      "text/plain": [
       "['avant garde', 'shocking', 'horror']"
      ]
     },
     "execution_count": 52,
     "metadata": {},
     "output_type": "execute_result"
    }
   ],
   "source": [
    "predict_labels_rag(\"Note: this synopsis is for the orginal Italian release with the segments in this certain order.Boris Karloff introduces three horror tales of the \" \\\n",
    "\"macabre and the supernatural known as the 'Three Faces of Fear'.THE TELEPHONERosy (Michele Mercier) is an attractive, high-priced Parisian call-girl who returns to her\" \\\n",
    "\" spacious, basement apartment after an evening out when she immediately gets beset by a series of strange phone calls. The caller soon identified himself as Frank, her\" \\\n",
    "\" ex-pimp who has recently escaped from prison. Rosy is terrified for it was her testimony that landed the man in jail. Looking for solace, Rosy phones her lesbian lover\" \\\n",
    "\" Mary (Lynda Alfonsi). The two women have been estranged for some time, but Rosy is certain that she is the only one who can help her. Mary agrees to come over that \" \\\n",
    "\"night. Seconds later, Frank calls again, promising that no matter who she calls for protection, he will have his revenge. Unknown to Rosy, Mary is the caller \" \\\n",
    "\"impersonating Frank. Marry arrives at Rosy's apartment soon after, and does her best to calm Rosy's nerves. She gives the panic-struck woman a tranquillizer \"\n",
    "\"and puts her to bed.Later that night as Rosy sleeps, Mary gets up out of bed, and pens a note of confession: she was the one making the strange phone calls when \" \\\n",
    "\"she learned of Franks escape from prison. Knowing that Rosy would call on her for help, she explains that she felt it was her way of coming back into her life \" \\\n",
    "\"after their breakup. While she is busy writing, she fails to notice an intruder in the apartment. This time it is Frank, for real. He creeps up behind Mary and \" \\\n",
    "\"strangles her to death with one of Rosys nylon stockings. The sound of the struggle awaken Rosy and she gasps in fright. The murderous pimp realizes that he just \" \\\n",
    "\"killed the wrong woman, and slowly makes his way to Rosy's bed. However, earlier that night, Rosy had placed a butcher knife under her pillow at Mary's suggestion.\" \\\n",
    "\" Rosy seizes the knife and stabs Frank with it as he's beginning to strangle her. Rosy drops the knife and breaks down in hysteria, surrounded by the two corpses \" \\\n",
    "\"of her former lovers.THE WURDALAKIn 19th Century Russia, Vladimir D'Urfe is a young nobleman on a long trip. During the course of his journey, he finds a beheaded \" \\\n",
    "\"corpse with a knife plunged into its heart. He withdraws the blade and takes it as a souvenir.Later that night, Vladimir stops at a small rural cottage to ask for \" \\\n",
    "\"shelter. He notices several daggers hanging up on one of the walls, and a vacant space that happens to fit the one he has discovered. Vladimir is surprised by the \" \\\n",
    "\"entrance of Giorgio (Glauco Onorato), who explains that the knife belongs to his father, who has not been seen for five days. Giorgio offers a room to the young \" \\\n",
    "\"count, and subsequently introduces him to the rest of the family: his wife (Rika Dialina), their young son Ivan, Giorgio's younger brother Pietro (Massimo Righi),\"\n",
    "\" and sister Sdenka (Susy Anderson). It subsequently transpires that they are eagerly anticipating the arrival of their father, Gorcha, as well as the reason for his\" \\\n",
    "\" absence: he has gone to do battle with the outlaw and dreaded wurdalak Ali Beg. Vladimir is confused by the term, and Sdenka explains that a wurdalak is a walking \" \\\n",
    "\"cadaver who feeds on the blood of the living, preferably close friends and family members. Giorgio and Pietro are certain that the corpse Vladimir had discovered is \" )"
   ]
  },
  {
   "cell_type": "markdown",
   "id": "0301581c",
   "metadata": {},
   "source": [
    "### Add to Gradio Demo"
   ]
  },
  {
   "cell_type": "code",
   "execution_count": 53,
   "id": "7d4c95a6",
   "metadata": {},
   "outputs": [
    {
     "name": "stdout",
     "output_type": "stream",
     "text": [
      "* Running on local URL:  http://127.0.0.1:7864\n",
      "* To create a public link, set `share=True` in `launch()`.\n"
     ]
    },
    {
     "data": {
      "text/html": [
       "<div><iframe src=\"http://127.0.0.1:7864/\" width=\"100%\" height=\"500\" allow=\"autoplay; camera; microphone; clipboard-read; clipboard-write;\" frameborder=\"0\" allowfullscreen></iframe></div>"
      ],
      "text/plain": [
       "<IPython.core.display.HTML object>"
      ]
     },
     "metadata": {},
     "output_type": "display_data"
    },
    {
     "data": {
      "text/plain": []
     },
     "execution_count": 53,
     "metadata": {},
     "output_type": "execute_result"
    }
   ],
   "source": [
    "import gradio as gr\n",
    "\n",
    "def rag_demo_predict(text):\n",
    "    predicted = predict_labels_rag(text)\n",
    "    return \", \".join(predicted)\n",
    "\n",
    "gr.Interface(fn=rag_demo_predict, inputs=\"textbox\", outputs=\"textbox\", title=\"Multi-Label RAG Classifier\").launch()\n"
   ]
  },
  {
   "cell_type": "code",
   "execution_count": null,
   "id": "f93a98e0",
   "metadata": {},
   "outputs": [],
   "source": []
  }
 ],
 "metadata": {
  "kernelspec": {
   "display_name": "enhesa",
   "language": "python",
   "name": "python3"
  },
  "language_info": {
   "codemirror_mode": {
    "name": "ipython",
    "version": 3
   },
   "file_extension": ".py",
   "mimetype": "text/x-python",
   "name": "python",
   "nbconvert_exporter": "python",
   "pygments_lexer": "ipython3",
   "version": "3.11.13"
  }
 },
 "nbformat": 4,
 "nbformat_minor": 5
}
