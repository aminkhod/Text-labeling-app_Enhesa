{
 "cells": [
  {
   "cell_type": "markdown",
   "id": "86220dd3",
   "metadata": {},
   "source": [
    "### Load and Explore "
   ]
  },
  {
   "cell_type": "code",
   "execution_count": 1,
   "id": "38854985",
   "metadata": {},
   "outputs": [
    {
     "name": "stdout",
     "output_type": "stream",
     "text": [
      "   Unnamed: 0                                          Title  \\\n",
      "0           0                        I tre volti della paura   \n",
      "1           1  Dungeons & Dragons: The Book of Vile Darkness   \n",
      "2           2                     The Shop Around the Corner   \n",
      "3           3                             Mr. Holland's Opus   \n",
      "4           4                                       Scarface   \n",
      "\n",
      "                                            Synopsis  \\\n",
      "0  Note: this synopsis is for the orginal Italian...   \n",
      "1  Two thousand years ago, Nhagruul the Foul, a s...   \n",
      "2  Matuschek's, a gift store in Budapest, is the ...   \n",
      "3  Glenn Holland, not a morning person by anyone'...   \n",
      "4  In May 1980, a Cuban man named Tony Montana (A...   \n",
      "\n",
      "                                                 Tag  \n",
      "0          cult, horror, gothic, murder, atmospheric  \n",
      "1                                           violence  \n",
      "2                                           romantic  \n",
      "3             inspiring, romantic, stupid, feel-good  \n",
      "4  cruelty, murder, dramatic, cult, violence, atm...  \n",
      "Index(['Unnamed: 0', 'Title', 'Synopsis', 'Tag'], dtype='object')\n"
     ]
    }
   ],
   "source": [
    "import pandas as pd\n",
    "\n",
    "df = pd.read_csv(\"../data/bonus_task.csv\")\n",
    "print(df.head())\n",
    "print(df.columns)\n"
   ]
  },
  {
   "cell_type": "markdown",
   "id": "e5b028e1",
   "metadata": {},
   "source": [
    "### Preprocess for Multi-label Format"
   ]
  },
  {
   "cell_type": "code",
   "execution_count": null,
   "id": "76e57219",
   "metadata": {},
   "outputs": [
    {
     "name": "stdout",
     "output_type": "stream",
     "text": [
      "['absurd', 'action', 'adult comedy', 'allegory', 'alternate history', 'alternate reality', 'anti war', 'atmospheric', 'autobiographical', 'avant garde', 'blaxploitation', 'bleak', 'boring', 'brainwashing', 'christian film', 'claustrophobic', 'clever', 'comedy', 'comic', 'cruelty', 'cult', 'cute', 'dark', 'depressing', 'dramatic', 'entertaining', 'fantasy', 'feel-good', 'flashback', 'good versus evil', 'gothic', 'grindhouse film', 'haunting', 'historical', 'historical fiction', 'home movie', 'horror', 'humor', 'insanity', 'inspiring', 'intrigue', 'magical realism', 'melodrama', 'murder', 'mystery', 'neo noir', 'non fiction', 'paranormal', 'philosophical', 'plot twist', 'pornographic', 'prank', 'psychedelic', 'psychological', 'queer', 'realism', 'revenge', 'romantic', 'sadist', 'satire', 'sci-fi', 'sentimental', 'storytelling', 'stupid', 'suicidal', 'suspenseful', 'thought-provoking', 'tragedy', 'violence', 'western', 'whimsical']\n"
     ]
    }
   ],
   "source": [
    "# Clean up and parse multi-label tags\n",
    "df['labels'] = df['Tag'].apply(lambda x: [t.strip() for t in x.split(',')])\n",
    "df['labels'] \n",
    "label_set = sorted({tag for labels in df['labels'] for tag in labels})\n",
    "print(label_set)"
   ]
  },
  {
   "cell_type": "code",
   "execution_count": 9,
   "id": "6c6cfc34",
   "metadata": {},
   "outputs": [
    {
     "data": {
      "text/plain": [
       "labels\n",
       "[murder]                                                                  1004\n",
       "[romantic]                                                                 731\n",
       "[violence]                                                                 584\n",
       "[psychedelic]                                                              437\n",
       "[flashback]                                                                332\n",
       "                                                                          ... \n",
       "[absurd, alternate reality]                                                  1\n",
       "[violence, comedy, neo noir]                                                 1\n",
       "[comedy, boring, bleak, cult, psychedelic, autobiographical, romantic]       1\n",
       "[cult, psychedelic, romantic, flashback]                                     1\n",
       "[cult, horror, gothic, murder, atmospheric]                                  1\n",
       "Name: count, Length: 5604, dtype: int64"
      ]
     },
     "execution_count": 9,
     "metadata": {},
     "output_type": "execute_result"
    }
   ],
   "source": [
    "df['labels'] .value_counts()"
   ]
  },
  {
   "cell_type": "code",
   "execution_count": 16,
   "id": "1781311b",
   "metadata": {},
   "outputs": [],
   "source": [
    "# Build a label “definition” for RAG retrieval:\n",
    "label_knowledge = {\n",
    "    \"absurd\": \"Absurd films feature illogical, surreal, or nonsensical elements.\",\n",
    "    \"action\": \"Action films emphasize physical feats, fights, chases, and stunts.\",\n",
    "    \"adult comedy\": \"Adult comedy contains mature humor, often with sexual or risqué themes.\",\n",
    "    \"allegory\": \"Allegorical films use symbolic figures and actions to convey deeper meanings.\",\n",
    "    \"alternate history\": \"Alternate history explores 'what if' scenarios diverging from real historical events.\",\n",
    "    \"alternate reality\": \"Alternate reality stories take place in worlds different from our own.\",\n",
    "    \"anti war\": \"Anti-war films critique or oppose war and its consequences.\",\n",
    "    \"atmospheric\": \"Atmospheric films focus on mood, visuals, and tension.\",\n",
    "    \"autobiographical\": \"Autobiographical films are based on the creator's own life.\",\n",
    "    \"avant garde\": \"Avant-garde films experiment with unconventional techniques and narratives.\",\n",
    "    \"blaxploitation\": \"Blaxploitation films feature Black actors and urban settings, often with social commentary.\",\n",
    "    \"bleak\": \"Bleak films have a grim, hopeless, or depressing tone.\",\n",
    "    \"boring\": \"Boring films are perceived as dull or unengaging.\",\n",
    "    \"brainwashing\": \"Brainwashing themes involve manipulation and control of minds.\",\n",
    "    \"christian film\": \"Christian films focus on Christian themes, values, or stories.\",\n",
    "    \"claustrophobic\": \"Claustrophobic films evoke a sense of confinement or restricted space.\",\n",
    "    \"clever\": \"Clever films feature smart plots, witty dialogue, or inventive storytelling.\",\n",
    "    \"comedy\": \"Comedy films aim to amuse and entertain through humor.\",\n",
    "    \"comic\": \"Comic films are lighthearted and often based on comic books or strips.\",\n",
    "    \"cruelty\": \"Cruelty involves suffering or abuse intentionally inflicted.\",\n",
    "    \"cult\": \"A cult film has a passionate fanbase, often obscure or unconventional.\",\n",
    "    \"cute\": \"Cute films are charming, endearing, or visually appealing.\",\n",
    "    \"dark\": \"Dark films explore grim, disturbing, or morally ambiguous themes.\",\n",
    "    \"depressing\": \"Depressing films evoke sadness or despair.\",\n",
    "    \"dramatic\": \"Dramatic stories focus on emotional, social, or moral conflict.\",\n",
    "    \"entertaining\": \"Entertaining films are enjoyable and engaging for audiences.\",\n",
    "    \"fantasy\": \"Fantasy films feature magical, supernatural, or imaginary elements.\",\n",
    "    \"feel-good\": \"Feel-good stories are emotionally satisfying and heartwarming.\",\n",
    "    \"flashback\": \"Flashback films use scenes set in earlier times to provide context.\",\n",
    "    \"good versus evil\": \"Good versus evil stories center on the struggle between opposing moral forces.\",\n",
    "    \"gothic\": \"Gothic stories mix horror with romance or mystery.\",\n",
    "    \"grindhouse film\": \"Grindhouse films are low-budget, exploitative, and often sensational.\",\n",
    "    \"haunting\": \"Haunting films leave a lingering emotional or psychological impact.\",\n",
    "    \"historical\": \"Historical films are set in or based on real past events.\",\n",
    "    \"historical fiction\": \"Historical fiction blends real history with fictional elements.\",\n",
    "    \"home movie\": \"Home movies are amateur films, often documenting personal events.\",\n",
    "    \"horror\": \"Horror involves fear, shock, and the supernatural.\",\n",
    "    \"humor\": \"Humor is the quality of being amusing or comical.\",\n",
    "    \"insanity\": \"Insanity themes explore madness, mental illness, or psychological breakdown.\",\n",
    "    \"inspiring\": \"Inspiring films uplift and motivate the viewer.\",\n",
    "    \"intrigue\": \"Intrigue films involve suspense, secrets, and complex plots.\",\n",
    "    \"magical realism\": \"Magical realism blends realistic settings with magical elements.\",\n",
    "    \"melodrama\": \"Melodramas emphasize exaggerated emotions and interpersonal conflicts.\",\n",
    "    \"murder\": \"Murder-themed plots involve killings, crime, and investigations.\",\n",
    "    \"mystery\": \"Mystery films revolve around solving puzzles or crimes.\",\n",
    "    \"neo noir\": \"Neo-noir updates classic film noir themes with modern sensibilities.\",\n",
    "    \"non fiction\": \"Non-fiction films depict real events, people, or facts.\",\n",
    "    \"paranormal\": \"Paranormal films involve supernatural phenomena beyond scientific explanation.\",\n",
    "    \"philosophical\": \"Philosophical films explore deep questions about existence, reality, or ethics.\",\n",
    "    \"plot twist\": \"Plot twist films feature unexpected changes in the storyline.\",\n",
    "    \"pornographic\": \"Pornographic films depict explicit sexual content.\",\n",
    "    \"prank\": \"Prank films involve practical jokes or trickery.\",\n",
    "    \"psychedelic\": \"Psychedelic films use surreal visuals and sounds to evoke altered states.\",\n",
    "    \"psychological\": \"Psychological films focus on mental states, emotions, and mind games.\",\n",
    "    \"queer\": \"Queer films explore LGBTQ+ themes or characters.\",\n",
    "    \"realism\": \"Realism strives for authentic, true-to-life representation.\",\n",
    "    \"revenge\": \"Revenge films center on characters seeking retribution.\",\n",
    "    \"romantic\": \"Romantic plots explore love and relationships.\",\n",
    "    \"sadist\": \"Sadist themes involve deriving pleasure from inflicting pain.\",\n",
    "    \"satire\": \"Satire uses humor, irony, or exaggeration to criticize or mock.\",\n",
    "    \"science fiction\": \"Science fiction explores futuristic, technological, or extraterrestrial concepts.\",\n",
    "    \"self-reflexive\": \"Self-reflexive films comment on their own creation or the filmmaking process.\",\n",
    "    \"shocking\": \"Shocking films aim to surprise or disturb the audience.\",\n",
    "    \"slapstick\": \"Slapstick comedy relies on exaggerated physical humor.\",\n",
    "    \"slow\": \"Slow films have a deliberate, unhurried pace.\",\n",
    "    \"spoof\": \"Spoof films parody or lampoon other genres or works.\",\n",
    "    \"stupid\": \"Stupid usually implies silly or exaggerated comedy.\",\n",
    "    \"stylized\": \"Stylized films use distinctive visual or narrative techniques.\",\n",
    "    \"surreal\": \"Surreal films feature dreamlike, bizarre, or illogical elements.\",\n",
    "    \"suspense\": \"Suspense films build tension and uncertainty.\",\n",
    "    \"thriller\": \"Thrillers are fast-paced, exciting, and often involve danger.\",\n",
    "    \"tragic\": \"Tragic films end in disaster or evoke pity and sorrow.\",\n",
    "    \"twist ending\": \"Twist ending films conclude with an unexpected turn.\",\n",
    "    \"uplifting\": \"Uplifting films inspire hope and positivity.\",\n",
    "    \"violence\": \"Violent stories include physical force and conflict.\",\n",
    "    \"weird\": \"Weird films are unusual, eccentric, or unconventional.\"\n",
    "}\n"
   ]
  },
  {
   "cell_type": "markdown",
   "id": "51837cde",
   "metadata": {},
   "source": [
    "### Encode with Sentence-Transformers"
   ]
  },
  {
   "cell_type": "code",
   "execution_count": null,
   "id": "881b79e6",
   "metadata": {},
   "outputs": [
    {
     "name": "stderr",
     "output_type": "stream",
     "text": [
      "d:\\program\\miniconda3\\envs\\enhesa\\Lib\\site-packages\\huggingface_hub\\file_download.py:143: UserWarning: `huggingface_hub` cache-system uses symlinks by default to efficiently store duplicated files but your machine does not support them in C:\\Users\\nb30480\\.cache\\huggingface\\hub\\models--sentence-transformers--paraphrase-MiniLM-L3-v2. Caching files will still work but in a degraded version that might require more space on your disk. This warning can be disabled by setting the `HF_HUB_DISABLE_SYMLINKS_WARNING` environment variable. For more details, see https://huggingface.co/docs/huggingface_hub/how-to-cache#limitations.\n",
      "To support symlinks on Windows, you either need to activate Developer Mode or to run Python as an administrator. In order to activate developer mode, see this article: https://docs.microsoft.com/en-us/windows/apps/get-started/enable-your-device-for-development\n",
      "  warnings.warn(message)\n"
     ]
    }
   ],
   "source": [
    "from sentence_transformers import SentenceTransformer\n",
    "from sklearn.metrics.pairwise import cosine_similarity\n",
    "\n",
    "# Try to load the model with a longer timeout and local cache\n",
    "try:\n",
    "    embedder = SentenceTransformer(\"paraphrase-MiniLM-L3-v2\")\n",
    "    # embedder = SentenceTransformer(\"all-MiniLM-L6-v2\", cache_folder=\"./model_cache\")\n",
    "except Exception as e:\n",
    "    print(\"An error occured while loading the model.\")\n",
    "    raise e\n",
    "\n",
    "# Encode label definitions\n",
    "label_embeddings = {\n",
    "    label: embedder.encode(definition)\n",
    "    for label, definition in label_knowledge.items()\n",
    "}\n"
   ]
  },
  {
   "cell_type": "markdown",
   "id": "375a6388",
   "metadata": {},
   "source": [
    "### Predict Labels with RAG-Like Retrieval"
   ]
  },
  {
   "cell_type": "code",
   "execution_count": null,
   "id": "a69b82d5",
   "metadata": {},
   "outputs": [],
   "source": [
    "def predict_labels_rag(text, threshold=0.4):\n",
    "    text_emb = embedder.encode(text)\n",
    "    scores = {\n",
    "        label: cosine_similarity([text_emb], [label_emb])[0][0]\n",
    "        for label, label_emb in label_embeddings.items()\n",
    "    }\n",
    "    return [label for label, score in scores.items() if score >= threshold]\n"
   ]
  },
  {
   "cell_type": "markdown",
   "id": "938e42a9",
   "metadata": {},
   "source": [
    "### Evaluate Using MultiLabelBinarizer"
   ]
  },
  {
   "cell_type": "code",
   "execution_count": null,
   "id": "8ef88c4c",
   "metadata": {},
   "outputs": [
    {
     "name": "stderr",
     "output_type": "stream",
     "text": [
      "d:\\program\\miniconda3\\envs\\enhesa\\Lib\\site-packages\\sklearn\\preprocessing\\_label.py:909: UserWarning: unknown class(es) ['sci-fi', 'sentimental', 'storytelling', 'suicidal', 'suspenseful', 'thought-provoking', 'tragedy', 'western', 'whimsical'] will be ignored\n",
      "  warnings.warn(\n"
     ]
    },
    {
     "ename": "NameError",
     "evalue": "name 'predict_labels_rag' is not defined",
     "output_type": "error",
     "traceback": [
      "\u001b[31m---------------------------------------------------------------------------\u001b[39m",
      "\u001b[31mNameError\u001b[39m                                 Traceback (most recent call last)",
      "\u001b[36mCell\u001b[39m\u001b[36m \u001b[39m\u001b[32mIn[20]\u001b[39m\u001b[32m, line 6\u001b[39m\n\u001b[32m      4\u001b[39m mlb = MultiLabelBinarizer(classes=\u001b[38;5;28mlist\u001b[39m(label_knowledge.keys()))\n\u001b[32m      5\u001b[39m y_true = mlb.fit_transform(df[\u001b[33m'\u001b[39m\u001b[33mlabels\u001b[39m\u001b[33m'\u001b[39m])\n\u001b[32m----> \u001b[39m\u001b[32m6\u001b[39m y_pred = mlb.transform(df[\u001b[33m'\u001b[39m\u001b[33mSynopsis\u001b[39m\u001b[33m'\u001b[39m].apply(\u001b[43mpredict_labels_rag\u001b[49m))\n\u001b[32m      8\u001b[39m \u001b[38;5;28mprint\u001b[39m(\u001b[33m\"\u001b[39m\u001b[33mMicro F1 score:\u001b[39m\u001b[33m\"\u001b[39m, f1_score(y_true, y_pred, average=\u001b[33m'\u001b[39m\u001b[33mmicro\u001b[39m\u001b[33m'\u001b[39m))\n\u001b[32m      9\u001b[39m \u001b[38;5;28mprint\u001b[39m(\u001b[33m\"\u001b[39m\u001b[33mMacro F1 score:\u001b[39m\u001b[33m\"\u001b[39m, f1_score(y_true, y_pred, average=\u001b[33m'\u001b[39m\u001b[33mmacro\u001b[39m\u001b[33m'\u001b[39m))\n",
      "\u001b[31mNameError\u001b[39m: name 'predict_labels_rag' is not defined"
     ]
    }
   ],
   "source": [
    "from sklearn.preprocessing import MultiLabelBinarizer\n",
    "from sklearn.metrics import f1_score\n",
    "\n",
    "mlb = MultiLabelBinarizer(classes=list(label_knowledge.keys()))\n",
    "y_true = mlb.fit_transform(df['labels'])\n",
    "y_pred = mlb.transform(df['Synopsis'].apply(predict_labels_rag))\n",
    "\n",
    "print(\"Micro F1 score:\", f1_score(y_true, y_pred, average='micro'))\n",
    "print(\"Macro F1 score:\", f1_score(y_true, y_pred, average='macro'))\n"
   ]
  },
  {
   "cell_type": "markdown",
   "id": "0301581c",
   "metadata": {},
   "source": [
    "### Add to Gradio Demo"
   ]
  },
  {
   "cell_type": "code",
   "execution_count": 22,
   "id": "7d4c95a6",
   "metadata": {},
   "outputs": [
    {
     "name": "stdout",
     "output_type": "stream",
     "text": [
      "* Running on local URL:  http://127.0.0.1:7860\n",
      "* To create a public link, set `share=True` in `launch()`.\n"
     ]
    },
    {
     "data": {
      "text/html": [
       "<div><iframe src=\"http://127.0.0.1:7860/\" width=\"100%\" height=\"500\" allow=\"autoplay; camera; microphone; clipboard-read; clipboard-write;\" frameborder=\"0\" allowfullscreen></iframe></div>"
      ],
      "text/plain": [
       "<IPython.core.display.HTML object>"
      ]
     },
     "metadata": {},
     "output_type": "display_data"
    },
    {
     "data": {
      "text/plain": []
     },
     "execution_count": 22,
     "metadata": {},
     "output_type": "execute_result"
    }
   ],
   "source": [
    "import gradio as gr\n",
    "\n",
    "def rag_demo_predict(text):\n",
    "    predicted = predict_labels_rag(text)\n",
    "    return \", \".join(predicted)\n",
    "\n",
    "gr.Interface(fn=rag_demo_predict, inputs=\"textbox\", outputs=\"textbox\", title=\"Multi-Label RAG Classifier\").launch()\n"
   ]
  },
  {
   "cell_type": "code",
   "execution_count": null,
   "id": "f93a98e0",
   "metadata": {},
   "outputs": [],
   "source": []
  }
 ],
 "metadata": {
  "kernelspec": {
   "display_name": "enhesa",
   "language": "python",
   "name": "python3"
  },
  "language_info": {
   "codemirror_mode": {
    "name": "ipython",
    "version": 3
   },
   "file_extension": ".py",
   "mimetype": "text/x-python",
   "name": "python",
   "nbconvert_exporter": "python",
   "pygments_lexer": "ipython3",
   "version": "3.11.13"
  }
 },
 "nbformat": 4,
 "nbformat_minor": 5
}
